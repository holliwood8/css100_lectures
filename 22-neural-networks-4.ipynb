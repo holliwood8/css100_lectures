{
 "cells": [
  {
   "cell_type": "markdown",
   "id": "565fd595",
   "metadata": {
    "editable": true,
    "slideshow": {
     "slide_type": "slide"
    },
    "tags": []
   },
   "source": [
    "# Using `pytorch`"
   ]
  },
  {
   "cell_type": "markdown",
   "id": "58997db4-551c-4a50-973a-e8fc2a4d2df2",
   "metadata": {
    "editable": true,
    "slideshow": {
     "slide_type": "slide"
    },
    "tags": []
   },
   "source": [
    "## Lecture plan\n",
    "\n",
    "- Working with a CSS dataset in `pytorch`.\n",
    "- Relevant considerations:\n",
    "   - Model **architecture**.\n",
    "   - Type of **activation function**.\n",
    "   - Number of **epochs**.\n"
   ]
  },
  {
   "cell_type": "markdown",
   "id": "649458e7-509c-4603-9862-fc9f103cedae",
   "metadata": {
    "editable": true,
    "slideshow": {
     "slide_type": "slide"
    },
    "tags": []
   },
   "source": [
    "## Working with a CSS dataset\n",
    "\n",
    "- Last time, we discussed building a model in `pytorch`.\n",
    "- But we used a dataset that wasn't as interesting for CSS...\n",
    "- Now, we'll discuss how to adapt one of our CSS datasets to classification with a neural network."
   ]
  },
  {
   "cell_type": "markdown",
   "id": "df77543d-b069-437d-805d-66eb7518f436",
   "metadata": {
    "editable": true,
    "slideshow": {
     "slide_type": "slide"
    },
    "tags": []
   },
   "source": [
    "### Loading our dataset\n",
    "\n",
    "We'll use a **Political Science** dataset analyzing votes from a [1988 referendum in Chile](https://en.wikipedia.org/wiki/1988_Chilean_presidential_referendum).\n",
    "\n",
    "> A referendum on whether Augusto Pinochet, the head of a military dictatorship, should become president for eight years under resumed civilian rule was held in Chile on October 5, 1988. The \"No\" side won with 56% of the vote, marking the end of Pinochet's 16+1⁄2-year rule. Democratic elections were held in 1989, leading to the establishment of a new government in 1990."
   ]
  },
  {
   "cell_type": "code",
   "execution_count": 1,
   "id": "6aba7909-0433-418b-87b2-c960058d5e03",
   "metadata": {},
   "outputs": [],
   "source": [
    "import pandas as pd\n",
    "import numpy as np"
   ]
  },
  {
   "cell_type": "code",
   "execution_count": 2,
   "id": "28d90869-9f25-460b-b6db-b4e6c4281df8",
   "metadata": {},
   "outputs": [
    {
     "data": {
      "text/html": [
       "<div>\n",
       "<style scoped>\n",
       "    .dataframe tbody tr th:only-of-type {\n",
       "        vertical-align: middle;\n",
       "    }\n",
       "\n",
       "    .dataframe tbody tr th {\n",
       "        vertical-align: top;\n",
       "    }\n",
       "\n",
       "    .dataframe thead th {\n",
       "        text-align: right;\n",
       "    }\n",
       "</style>\n",
       "<table border=\"1\" class=\"dataframe\">\n",
       "  <thead>\n",
       "    <tr style=\"text-align: right;\">\n",
       "      <th></th>\n",
       "      <th>region</th>\n",
       "      <th>population</th>\n",
       "      <th>sex</th>\n",
       "      <th>age</th>\n",
       "      <th>education</th>\n",
       "      <th>income</th>\n",
       "      <th>statusquo</th>\n",
       "      <th>vote</th>\n",
       "      <th>logincome</th>\n",
       "      <th>logpop</th>\n",
       "      <th>sex_M</th>\n",
       "      <th>region_M</th>\n",
       "      <th>region_N</th>\n",
       "      <th>region_S</th>\n",
       "      <th>region_SA</th>\n",
       "      <th>education_PS</th>\n",
       "      <th>education_S</th>\n",
       "    </tr>\n",
       "  </thead>\n",
       "  <tbody>\n",
       "    <tr>\n",
       "      <th>0</th>\n",
       "      <td>N</td>\n",
       "      <td>175000</td>\n",
       "      <td>M</td>\n",
       "      <td>65.0</td>\n",
       "      <td>P</td>\n",
       "      <td>35000.0</td>\n",
       "      <td>1.00820</td>\n",
       "      <td>Y</td>\n",
       "      <td>10.463103</td>\n",
       "      <td>12.072541</td>\n",
       "      <td>True</td>\n",
       "      <td>False</td>\n",
       "      <td>True</td>\n",
       "      <td>False</td>\n",
       "      <td>False</td>\n",
       "      <td>False</td>\n",
       "      <td>False</td>\n",
       "    </tr>\n",
       "    <tr>\n",
       "      <th>1</th>\n",
       "      <td>N</td>\n",
       "      <td>175000</td>\n",
       "      <td>M</td>\n",
       "      <td>29.0</td>\n",
       "      <td>PS</td>\n",
       "      <td>7500.0</td>\n",
       "      <td>-1.29617</td>\n",
       "      <td>N</td>\n",
       "      <td>8.922658</td>\n",
       "      <td>12.072541</td>\n",
       "      <td>True</td>\n",
       "      <td>False</td>\n",
       "      <td>True</td>\n",
       "      <td>False</td>\n",
       "      <td>False</td>\n",
       "      <td>True</td>\n",
       "      <td>False</td>\n",
       "    </tr>\n",
       "  </tbody>\n",
       "</table>\n",
       "</div>"
      ],
      "text/plain": [
       "  region  population sex   age education   income  statusquo vote  logincome  \\\n",
       "0      N      175000   M  65.0         P  35000.0    1.00820    Y  10.463103   \n",
       "1      N      175000   M  29.0        PS   7500.0   -1.29617    N   8.922658   \n",
       "\n",
       "      logpop  sex_M  region_M  region_N  region_S  region_SA  education_PS  \\\n",
       "0  12.072541   True     False      True     False      False         False   \n",
       "1  12.072541   True     False      True     False      False          True   \n",
       "\n",
       "   education_S  \n",
       "0        False  \n",
       "1        False  "
      ]
     },
     "execution_count": 2,
     "metadata": {},
     "output_type": "execute_result"
    }
   ],
   "source": [
    "df_chile = pd.read_csv(\"data/classification/chilesurvey.csv\")\n",
    "df_chile.head(2)"
   ]
  },
  {
   "cell_type": "code",
   "execution_count": 3,
   "id": "c0fafe1e-658f-4823-a7c6-df95dc03949c",
   "metadata": {},
   "outputs": [
    {
     "data": {
      "text/plain": [
       "(2431, 17)"
      ]
     },
     "execution_count": 3,
     "metadata": {},
     "output_type": "execute_result"
    }
   ],
   "source": [
    "df_chile.shape"
   ]
  },
  {
   "cell_type": "markdown",
   "id": "0810d1ed-d1c0-4e0d-a3f6-781b94537b3a",
   "metadata": {
    "editable": true,
    "slideshow": {
     "slide_type": "slide"
    },
    "tags": []
   },
   "source": [
    "#### Inspecting our dataset\n",
    "\n",
    "- We can inspect the distribution of **votes**.\n",
    "- In this full dataset, we'll include `U` (undecided) and `A` (abstain)."
   ]
  },
  {
   "cell_type": "code",
   "execution_count": 4,
   "id": "13cf640c-3d9f-49a6-b67d-dfbe107e4a16",
   "metadata": {},
   "outputs": [
    {
     "data": {
      "text/plain": [
       "vote\n",
       "N    0.356643\n",
       "Y    0.343891\n",
       "U    0.226656\n",
       "A    0.072810\n",
       "Name: count, dtype: float64"
      ]
     },
     "execution_count": 4,
     "metadata": {},
     "output_type": "execute_result"
    }
   ],
   "source": [
    "df_chile['vote'].value_counts() / len(df_chile)"
   ]
  },
  {
   "cell_type": "markdown",
   "id": "614bbe41-7f7e-4e83-b4c2-ea4a1346c760",
   "metadata": {
    "editable": true,
    "slideshow": {
     "slide_type": "slide"
    },
    "tags": []
   },
   "source": [
    "#### Adapting our dataset\n",
    "\n",
    "- We'll need to **adapting** our dataset to be used with `pytorch`.\n",
    "- This will involve a few steps:\n",
    "   - Use only the *numerical* encodings of categorical features.\n",
    "   - Separate our features and our labels.\n",
    "   - Create a `ChileDataset` class to make batching easier."
   ]
  },
  {
   "cell_type": "code",
   "execution_count": 5,
   "id": "1b12a46b-35a5-4f44-a5d6-32d064b523b3",
   "metadata": {},
   "outputs": [],
   "source": [
    "# Convert boolean columns to integers\n",
    "boolean_columns = df_chile.select_dtypes(include=['bool']).columns\n",
    "df_chile[boolean_columns] = df_chile[boolean_columns].astype(int)"
   ]
  },
  {
   "cell_type": "code",
   "execution_count": 6,
   "id": "142621cb-65c2-4219-b3fb-6bf07ae3ab34",
   "metadata": {},
   "outputs": [],
   "source": [
    "# Separate features and labels\n",
    "features = df_chile.drop(columns=['vote', 'region', 'sex', 'education'])\n",
    "labels = df_chile['vote']"
   ]
  },
  {
   "cell_type": "markdown",
   "id": "a133d8d6-a2c2-4bd6-ad83-6b1eb1657ae5",
   "metadata": {},
   "source": [
    "#### Transform labels"
   ]
  },
  {
   "cell_type": "code",
   "execution_count": 7,
   "id": "896938d2-7da0-4148-8278-554ebff808e3",
   "metadata": {},
   "outputs": [],
   "source": [
    "from sklearn.preprocessing import LabelEncoder"
   ]
  },
  {
   "cell_type": "code",
   "execution_count": 8,
   "id": "4aa70a92-6efc-4790-8bcb-e931423d52be",
   "metadata": {},
   "outputs": [
    {
     "data": {
      "text/plain": [
       "array([3, 1, 3, ..., 3, 3, 3])"
      ]
     },
     "execution_count": 8,
     "metadata": {},
     "output_type": "execute_result"
    }
   ],
   "source": [
    "le_vote = LabelEncoder()\n",
    "labels = le_vote.fit_transform(labels)\n",
    "labels"
   ]
  },
  {
   "cell_type": "markdown",
   "id": "4db5080a-ed99-4be2-a807-19639eddce79",
   "metadata": {},
   "source": [
    "#### Create a custom `ChileDataset` class"
   ]
  },
  {
   "cell_type": "code",
   "execution_count": 9,
   "id": "6a29dee1-c609-4008-af2c-9a17eadd2cce",
   "metadata": {},
   "outputs": [],
   "source": [
    "import torch\n",
    "from torch.utils.data import Dataset, DataLoader"
   ]
  },
  {
   "cell_type": "code",
   "execution_count": 10,
   "id": "8457c055-4e05-4837-91b0-0c37fb0abbc0",
   "metadata": {},
   "outputs": [],
   "source": [
    "# Custom Dataset Class\n",
    "class ChileDataset(Dataset):\n",
    "    def __init__(self, features, labels):\n",
    "        self.features = torch.tensor(features.values, dtype=torch.float32)\n",
    "        self.labels = torch.tensor(labels, dtype=torch.long)\n",
    "        \n",
    "    def __len__(self):\n",
    "        return len(self.features)\n",
    "    \n",
    "    def __getitem__(self, idx):\n",
    "        return self.features[idx], self.labels[idx]"
   ]
  },
  {
   "cell_type": "code",
   "execution_count": 11,
   "id": "8bc2adab-596f-4751-8985-bab7c5a7ffca",
   "metadata": {},
   "outputs": [
    {
     "data": {
      "text/plain": [
       "__main__.ChileDataset"
      ]
     },
     "execution_count": 11,
     "metadata": {},
     "output_type": "execute_result"
    }
   ],
   "source": [
    "dataset = ChileDataset(features, labels)\n",
    "type(dataset)"
   ]
  },
  {
   "cell_type": "markdown",
   "id": "76c93e30-4eb4-44a5-bbad-ab3c62e3ccf9",
   "metadata": {},
   "source": [
    "#### Check that it works with `DataLoader`"
   ]
  },
  {
   "cell_type": "code",
   "execution_count": 12,
   "id": "b08ceb1c-f973-4d82-96e4-0ee377323420",
   "metadata": {},
   "outputs": [],
   "source": [
    "# Create DataLoader\n",
    "batch_size = 30\n",
    "dataloader = DataLoader(dataset, batch_size=batch_size, shuffle=True)"
   ]
  },
  {
   "cell_type": "markdown",
   "id": "f98dd0b5-6f64-4a84-8896-69b0ccf0b8ee",
   "metadata": {},
   "source": [
    "### Set up neural network!\n",
    "\n",
    "- Now, we need to create a `NeuralNetwork` class.\n",
    "- Recall that we can subclass the `nn.Module`.\n",
    "\n",
    "**Check-in**: What should the *dimensions* of our layers be?"
   ]
  },
  {
   "cell_type": "code",
   "execution_count": 13,
   "id": "37f67af8-9eb7-48df-bc80-61bc7fc9a321",
   "metadata": {},
   "outputs": [],
   "source": [
    "import torch.nn as nn\n",
    "import torch.optim as optim"
   ]
  },
  {
   "cell_type": "markdown",
   "id": "5c745716-b9b4-4db6-a7cd-e1427e23a5db",
   "metadata": {},
   "source": [
    "#### Creating a `NeuralNetwork` class\n",
    "\n",
    "- Our input layer should have dimension `input_size`.\n",
    "- Our output layer should have dimension `output_size`.\n",
    "- We can choose `hidden_size`.\n",
    "- Here, we also add something called `Dropout`, which randomly *zeroes* some elements of the input with some probability; can make model more **robust**."
   ]
  },
  {
   "cell_type": "code",
   "execution_count": 14,
   "id": "ee2dfccc-f00f-45ef-a24a-7fbf79a84c02",
   "metadata": {},
   "outputs": [],
   "source": [
    "class NeuralNetwork(nn.Module):\n",
    "    def __init__(self, input_size, hidden_size, output_size):\n",
    "        super().__init__()\n",
    "        self.fc1 = nn.Linear(input_size, hidden_size)\n",
    "        self.relu1 = nn.ReLU()\n",
    "        self.dropout1 = nn.Dropout(0.5)\n",
    "        self.fc2 = nn.Linear(hidden_size, hidden_size)\n",
    "        self.relu2 = nn.ReLU()\n",
    "        self.dropout2 = nn.Dropout(0.5)\n",
    "        self.fc3 = nn.Linear(hidden_size, output_size)\n",
    "\n",
    "    def forward(self, x):\n",
    "        x = self.fc1(x)\n",
    "        x = self.relu1(x)\n",
    "        x = self.dropout1(x)\n",
    "        x = self.fc2(x)\n",
    "        x = self.relu2(x)\n",
    "        x = self.dropout2(x)\n",
    "        x = self.fc3(x)\n",
    "        return x"
   ]
  },
  {
   "cell_type": "markdown",
   "id": "ed292b14-22d9-488d-b66f-3859134ce01d",
   "metadata": {},
   "source": [
    "#### Instantiating a `NeuralNetwork`"
   ]
  },
  {
   "cell_type": "code",
   "execution_count": 15,
   "id": "807d904a-02b9-46e9-ba50-73005934883e",
   "metadata": {},
   "outputs": [],
   "source": [
    "# Set up components\n",
    "input_size = features.shape[1]  # Number of features\n",
    "output_size = len(np.unique(labels))  # Number of classes\n",
    "hidden_size = 200  # Number of neurons in the hidden layer"
   ]
  },
  {
   "cell_type": "code",
   "execution_count": 16,
   "id": "37c4be01-766b-4765-9864-01171d25ffca",
   "metadata": {},
   "outputs": [],
   "source": [
    "# Instantiate model\n",
    "model = NeuralNetwork(input_size, hidden_size, output_size)"
   ]
  },
  {
   "cell_type": "code",
   "execution_count": 17,
   "id": "e92460e2-9707-41ff-a332-9c5570f30a14",
   "metadata": {},
   "outputs": [
    {
     "data": {
      "text/plain": [
       "NeuralNetwork(\n",
       "  (fc1): Linear(in_features=13, out_features=200, bias=True)\n",
       "  (relu1): ReLU()\n",
       "  (dropout1): Dropout(p=0.5, inplace=False)\n",
       "  (fc2): Linear(in_features=200, out_features=200, bias=True)\n",
       "  (relu2): ReLU()\n",
       "  (dropout2): Dropout(p=0.5, inplace=False)\n",
       "  (fc3): Linear(in_features=200, out_features=4, bias=True)\n",
       ")"
      ]
     },
     "execution_count": 17,
     "metadata": {},
     "output_type": "execute_result"
    }
   ],
   "source": [
    "model"
   ]
  },
  {
   "cell_type": "markdown",
   "id": "4d70413a-3e41-4ec4-a310-a057ffac5433",
   "metadata": {},
   "source": [
    "### Set up our *training regime*\n",
    "\n",
    "- Now, we need to define our `train_loop` and `test_loop`.\n",
    "- We already set this up last time, so we can just use the same logic."
   ]
  },
  {
   "cell_type": "markdown",
   "id": "5bd51e5d-5a88-4293-882f-bedfd5ed57e2",
   "metadata": {},
   "source": [
    "#### Our `train_loop`"
   ]
  },
  {
   "cell_type": "code",
   "execution_count": 18,
   "id": "fc9f3b61-750b-4cdd-92ba-dcc07352c0fd",
   "metadata": {},
   "outputs": [],
   "source": [
    "def train_loop(dataloader, model, loss_fn, optimizer):\n",
    "    size = len(dataloader.dataset)\n",
    "    # Set the model to training mode - important for batch normalization and dropout layers\n",
    "    # Unnecessary in this situation but added for best practices\n",
    "    model.train()\n",
    "    for batch, (X, y) in enumerate(dataloader):\n",
    "        # Compute prediction and loss\n",
    "        pred = model(X)\n",
    "        loss = loss_fn(pred, y)\n",
    "\n",
    "        # Backpropagation\n",
    "        loss.backward()\n",
    "        optimizer.step()\n",
    "        optimizer.zero_grad()\n",
    "\n",
    "        if batch % 50 == 0:\n",
    "            loss, current = loss.item(), batch * batch_size + len(X)\n",
    "            "
   ]
  },
  {
   "cell_type": "markdown",
   "id": "a449cc94-d8b0-4a5b-8ea3-e3bc78c13372",
   "metadata": {},
   "source": [
    "#### Our `test_loop`"
   ]
  },
  {
   "cell_type": "code",
   "execution_count": 19,
   "id": "31618bea-85de-4941-8f15-ea1c05d7817e",
   "metadata": {},
   "outputs": [],
   "source": [
    "def test_loop(dataloader, model, loss_fn):\n",
    "    # Set the model to evaluation mode - important for batch normalization and dropout layers\n",
    "    # Unnecessary in this situation but added for best practices\n",
    "    model.eval()\n",
    "    size = len(dataloader.dataset)\n",
    "    num_batches = len(dataloader)\n",
    "    test_loss, correct = 0, 0\n",
    "\n",
    "    # Evaluating the model with torch.no_grad() ensures that no gradients are computed during test mode\n",
    "    # also serves to reduce unnecessary gradient computations and memory usage for tensors with requires_grad=True\n",
    "    with torch.no_grad():\n",
    "        for X, y in dataloader:\n",
    "            pred = model(X)\n",
    "            test_loss += loss_fn(pred, y).item()\n",
    "            correct += (pred.argmax(1) == y).type(torch.float).sum().item()\n",
    "\n",
    "    test_loss /= num_batches\n",
    "    correct /= size\n",
    "    return test_loss, correct"
   ]
  },
  {
   "cell_type": "markdown",
   "id": "cc08a5da-d2be-428d-9293-fce510cd24ca",
   "metadata": {},
   "source": [
    "#### Divide data into train/test"
   ]
  },
  {
   "cell_type": "code",
   "execution_count": 20,
   "id": "c563e9d4-3c41-404b-ada2-19954f2b56b5",
   "metadata": {},
   "outputs": [],
   "source": [
    "from sklearn.model_selection import train_test_split"
   ]
  },
  {
   "cell_type": "code",
   "execution_count": 21,
   "id": "271f1652-de78-4da5-9ab1-9fc181cade2e",
   "metadata": {},
   "outputs": [],
   "source": [
    "# Split the data into training and test sets\n",
    "X_train, X_test, y_train, y_test = train_test_split(features, labels, \n",
    "                                                    test_size=0.2, random_state=42)"
   ]
  },
  {
   "cell_type": "code",
   "execution_count": 22,
   "id": "274e3ea1-8643-45ea-b39c-651997c245ae",
   "metadata": {},
   "outputs": [],
   "source": [
    "### Create ChileDataset\n",
    "train_dataset = ChileDataset(X_train, y_train)\n",
    "test_dataset = ChileDataset(X_test, y_test)"
   ]
  },
  {
   "cell_type": "code",
   "execution_count": 23,
   "id": "7c1fe49d-4fcd-4931-afcb-9c51d0876d29",
   "metadata": {},
   "outputs": [],
   "source": [
    "### Create DataLoaders\n",
    "batch_size = 100\n",
    "train_dataloader = DataLoader(train_dataset, batch_size=batch_size)\n",
    "test_dataloader = DataLoader(test_dataset, batch_size=batch_size)"
   ]
  },
  {
   "cell_type": "markdown",
   "id": "4662c53a-4264-4697-8447-0bd8b3830516",
   "metadata": {},
   "source": [
    "#### Set up hyper-parameters\n",
    "\n",
    "- We'll use **cross-entropy loss**.\n",
    "- We'll start out with this `learning_rate` and `10` epochs."
   ]
  },
  {
   "cell_type": "code",
   "execution_count": 25,
   "id": "ac0b0eef-5768-43e2-aa1b-46db0dd6163b",
   "metadata": {},
   "outputs": [],
   "source": [
    "num_epochs = 20  # Number of epochs for training\n",
    "learning_rate = 0.001  # Learning rate"
   ]
  },
  {
   "cell_type": "code",
   "execution_count": 26,
   "id": "92fec90d-7459-421b-8b2e-7c0f80e12477",
   "metadata": {},
   "outputs": [],
   "source": [
    "criterion = nn.CrossEntropyLoss()\n",
    "optimizer = optim.Adam(model.parameters(), lr=learning_rate)"
   ]
  },
  {
   "cell_type": "markdown",
   "id": "260f6f97-8111-4633-8805-f4e58872a1a8",
   "metadata": {},
   "source": [
    "### Time to train!"
   ]
  },
  {
   "cell_type": "code",
   "execution_count": 27,
   "id": "a5a3c58f-4f1e-46c6-88c9-fa8f5d408719",
   "metadata": {},
   "outputs": [
    {
     "name": "stdout",
     "output_type": "stream",
     "text": [
      "Done!\n"
     ]
    }
   ],
   "source": [
    "results = []\n",
    "for t in range(num_epochs):\n",
    "    train_loop(train_dataloader, model, criterion, optimizer)\n",
    "    test_loss, correct = test_loop(test_dataloader, model, criterion)\n",
    "    results.append({\n",
    "        'epoch': t,\n",
    "        'test_loss': test_loss,\n",
    "        'accuracy': correct})\n",
    "print(\"Done!\")"
   ]
  },
  {
   "cell_type": "code",
   "execution_count": 28,
   "id": "e318a8fb-130b-4e55-b45a-aa8d68cf530c",
   "metadata": {},
   "outputs": [],
   "source": [
    "df_results = pd.DataFrame(results)"
   ]
  },
  {
   "cell_type": "markdown",
   "id": "dade1fb8-4a8b-4bc7-a58b-0611a46e8bb7",
   "metadata": {},
   "source": [
    "#### Visualize results"
   ]
  },
  {
   "cell_type": "code",
   "execution_count": 29,
   "id": "3a0255f5-260e-473a-9a06-3950010267c6",
   "metadata": {},
   "outputs": [],
   "source": [
    "import seaborn as sns"
   ]
  },
  {
   "cell_type": "code",
   "execution_count": 30,
   "id": "60f5ee27-0f41-4900-849a-585ed69d671d",
   "metadata": {},
   "outputs": [
    {
     "name": "stderr",
     "output_type": "stream",
     "text": [
      "/Users/seantrott/anaconda3/lib/python3.11/site-packages/seaborn/_oldcore.py:1119: FutureWarning: use_inf_as_na option is deprecated and will be removed in a future version. Convert inf values to NaN before operating instead.\n",
      "  with pd.option_context('mode.use_inf_as_na', True):\n",
      "/Users/seantrott/anaconda3/lib/python3.11/site-packages/seaborn/_oldcore.py:1119: FutureWarning: use_inf_as_na option is deprecated and will be removed in a future version. Convert inf values to NaN before operating instead.\n",
      "  with pd.option_context('mode.use_inf_as_na', True):\n"
     ]
    },
    {
     "data": {
      "text/plain": [
       "<Axes: xlabel='epoch', ylabel='test_loss'>"
      ]
     },
     "execution_count": 30,
     "metadata": {},
     "output_type": "execute_result"
    },
    {
     "data": {
      "image/png": "[encoded data removed]",
      "text/plain": [
       "<Figure size 640x480 with 1 Axes>"
      ]
     },
     "metadata": {},
     "output_type": "display_data"
    }
   ],
   "source": [
    "sns.lineplot(data = df_results, x = \"epoch\", y = \"test_loss\")"
   ]
  },
  {
   "cell_type": "markdown",
   "id": "e81672d9-6c82-44ee-9dc0-6b5fcb6e63ce",
   "metadata": {},
   "source": [
    "#### The trajectory of performance\n",
    "\n",
    "- In general, *loss* should decrease over time.\n",
    "- But performance may stall out, and not seem that impressive.\n",
    "- Sometimes, other models (like an SVM) are more efficient and perform just as well (if not better)!"
   ]
  },
  {
   "cell_type": "markdown",
   "id": "5f45b527-dba9-4249-99c3-93f005558c6d",
   "metadata": {
    "editable": true,
    "slideshow": {
     "slide_type": "slide"
    },
    "tags": []
   },
   "source": [
    "## The alchemy of neural networks\n",
    "\n",
    "There are all sorts of considerations when building neural networks. \n",
    "\n",
    "- Which model **architecture**?\n",
    "   - Also includes questions about *dropout*, etc.\n",
    "- Which **activation function**?\n",
    "- Which **batch size**?\n",
    "- Which **learning rate**?\n",
    "- Which **number of epochs**?\n",
    "\n",
    "As with many aspects of model building, some of this is an *empirical question*. What works best?"
   ]
  },
  {
   "cell_type": "markdown",
   "id": "f53b755e-d561-4a74-b830-9cd7a4862046",
   "metadata": {
    "editable": true,
    "slideshow": {
     "slide_type": "slide"
    },
    "tags": []
   },
   "source": [
    "## Lecture wrap-up\n",
    "\n",
    "- This lecture only *scratched the surface* of working with datasets in `pytorch`.\n",
    "    - Many other libraries, like `keras` or `tensorflow`.\n",
    "- We used a very simple (and naive) `NeuralNetwork` architecture.\n",
    "- But now you have a general sense for what goes on under the hood."
   ]
  }
 ],
 "metadata": {
  "celltoolbar": "Slideshow",
  "kernelspec": {
   "display_name": "Python 3 (ipykernel)",
   "language": "python",
   "name": "python3"
  },
  "language_info": {
   "codemirror_mode": {
    "name": "ipython",
    "version": 3
   },
   "file_extension": ".py",
   "mimetype": "text/x-python",
   "name": "python",
   "nbconvert_exporter": "python",
   "pygments_lexer": "ipython3",
   "version": "3.11.0"
  }
 },
 "nbformat": 4,
 "nbformat_minor": 5
}
