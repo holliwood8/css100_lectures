{
 "cells": [
  {
   "cell_type": "markdown",
   "id": "cb2fd0a8",
   "metadata": {
    "slideshow": {
     "slide_type": "slide"
    }
   },
   "source": [
    "# Introduction to CSS 100"
   ]
  },
  {
   "cell_type": "markdown",
   "id": "87a4e13e",
   "metadata": {
    "slideshow": {
     "slide_type": "slide"
    }
   },
   "source": [
    "## Goals of this lecture\n",
    "\n",
    "- Quick introduction and logistics.\n",
    "- Overview of class content. \n",
    "  - Brief tour of CSS 100.\n",
    "- Python review."
   ]
  },
  {
   "cell_type": "markdown",
   "id": "a9b50e87",
   "metadata": {
    "slideshow": {
     "slide_type": "slide"
    }
   },
   "source": [
    "## Introductions"
   ]
  },
  {
   "cell_type": "code",
   "execution_count": null,
   "id": "ec35f562",
   "metadata": {},
   "outputs": [],
   "source": []
  },
  {
   "cell_type": "code",
   "execution_count": null,
   "id": "29bced4f",
   "metadata": {},
   "outputs": [],
   "source": []
  },
  {
   "cell_type": "code",
   "execution_count": null,
   "id": "33ec8c8a",
   "metadata": {},
   "outputs": [],
   "source": []
  },
  {
   "cell_type": "markdown",
   "id": "340ec5c4",
   "metadata": {
    "slideshow": {
     "slide_type": "slide"
    }
   },
   "source": [
    "## Course Overview"
   ]
  },
  {
   "cell_type": "markdown",
   "id": "f79281df",
   "metadata": {},
   "source": [
    "Things to cover in course overview:\n",
    "\n",
    "- Goals of this class. \n",
    "- Tour of specific topics.  \n",
    "   - Advanced programming.  \n",
    "   - Resampling.  \n",
    "   - NLP.  \n",
    "   - Advanced ML: regression and more unlocked.  \n",
    "   - Deep learning!\n",
    "- Course logistics and grading."
   ]
  },
  {
   "cell_type": "code",
   "execution_count": null,
   "id": "d8e9fd04",
   "metadata": {},
   "outputs": [],
   "source": []
  },
  {
   "cell_type": "code",
   "execution_count": null,
   "id": "512a8b5c",
   "metadata": {},
   "outputs": [],
   "source": []
  },
  {
   "cell_type": "markdown",
   "id": "2a704981",
   "metadata": {
    "slideshow": {
     "slide_type": "slide"
    }
   },
   "source": [
    "## Python review"
   ]
  },
  {
   "cell_type": "markdown",
   "id": "fc08d926",
   "metadata": {},
   "source": [
    "Things to cover in Python review:\n",
    "\n",
    "- Review of functions, loops, etc.  \n",
    "- "
   ]
  },
  {
   "cell_type": "code",
   "execution_count": null,
   "id": "2ec85ada",
   "metadata": {},
   "outputs": [],
   "source": []
  }
 ],
 "metadata": {
  "celltoolbar": "Slideshow",
  "kernelspec": {
   "display_name": "Python 3 (ipykernel)",
   "language": "python",
   "name": "python3"
  },
  "language_info": {
   "codemirror_mode": {
    "name": "ipython",
    "version": 3
   },
   "file_extension": ".py",
   "mimetype": "text/x-python",
   "name": "python",
   "nbconvert_exporter": "python",
   "pygments_lexer": "ipython3",
   "version": "3.11.0"
  }
 },
 "nbformat": 4,
 "nbformat_minor": 5
}
