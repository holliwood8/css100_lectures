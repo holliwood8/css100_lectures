{
 "cells": [
  {
   "cell_type": "markdown",
   "id": "141f0304",
   "metadata": {
    "slideshow": {
     "slide_type": "slide"
    }
   },
   "source": [
    "# Exceptions and documentation"
   ]
  },
  {
   "cell_type": "markdown",
   "id": "5d136dc6",
   "metadata": {
    "slideshow": {
     "slide_type": "slide"
    }
   },
   "source": [
    "## Goals of this lecture\n",
    "\n",
    "- Introduction to `Exception`s.  \n",
    "   - Identifying common `Exception`s for **debugging**.\n",
    "   - `try/except` blocks.\n",
    "- Documentation using **docstrings**.  "
   ]
  },
  {
   "cell_type": "markdown",
   "id": "f3a66468",
   "metadata": {
    "slideshow": {
     "slide_type": "slide"
    }
   },
   "source": [
    "## `Exceptions`: an introduction\n",
    "\n",
    "> An **Exception** is an *error* detected during the execution of Python code.\n",
    "\n",
    "- This is distinct from a `SyntaxError`.  \n",
    "- Many *kinds* of `Exceptions`...\n",
    "   - `ZeroDivisionError`\n",
    "   - `TypeError`\n",
    "   - `NameError`\n",
    "   - Many more.\n",
    "- You've probably run into some of these before in your code!"
   ]
  },
  {
   "cell_type": "markdown",
   "id": "7521eb96",
   "metadata": {
    "slideshow": {
     "slide_type": "slide"
    }
   },
   "source": [
    "### Why learn about Exceptions?\n",
    "\n",
    "Two main reasons:\n",
    "\n",
    "1. Helpful for **debugging**.\n",
    "2. Can use them in your code to avoid **runtime errors**."
   ]
  },
  {
   "cell_type": "markdown",
   "id": "cd4a961e",
   "metadata": {
    "slideshow": {
     "slide_type": "slide"
    }
   },
   "source": [
    "### Common types of exceptions\n",
    "\n",
    "All [built-in Exceptions](https://docs.python.org/3/library/exceptions.html#bltin-exceptions) *inherit* from the `Exception` class.\n",
    "\n",
    "|**Name**|**Explanation**|\n",
    "|----|-----------|\n",
    "|`ZeroDivisionError`|Can't divide by zero.|\n",
    "|`NameError`|Referencing a variable that hasn't been created.|\n",
    "|`IndexError`|Trying to access an index that doesn't exist in a `list`.|\n",
    "|`KeyError`|Trying to access an index that doesn't exist in a `dict`.|\n",
    "|`TypeError`|Trying to apply an operator to inappropriate `type` of object.|\n"
   ]
  },
  {
   "cell_type": "markdown",
   "id": "193a4fe2",
   "metadata": {
    "slideshow": {
     "slide_type": "slide"
    }
   },
   "source": [
    "#### `ZeroDivisionError`"
   ]
  },
  {
   "cell_type": "code",
   "execution_count": 1,
   "id": "901fc21c",
   "metadata": {
    "slideshow": {
     "slide_type": "-"
    }
   },
   "outputs": [
    {
     "ename": "ZeroDivisionError",
     "evalue": "division by zero",
     "output_type": "error",
     "traceback": [
      "\u001b[0;31m---------------------------------------------------------------------------\u001b[0m",
      "\u001b[0;31mZeroDivisionError\u001b[0m                         Traceback (most recent call last)",
      "Cell \u001b[0;32mIn[1], line 2\u001b[0m\n\u001b[1;32m      1\u001b[0m \u001b[38;5;66;03m### Can't divide by zero\u001b[39;00m\n\u001b[0;32m----> 2\u001b[0m \u001b[38;5;241m1\u001b[39m\u001b[38;5;241m/\u001b[39m\u001b[38;5;241m0\u001b[39m\n",
      "\u001b[0;31mZeroDivisionError\u001b[0m: division by zero"
     ]
    }
   ],
   "source": [
    "### Can't divide by zero\n",
    "1/0"
   ]
  },
  {
   "cell_type": "markdown",
   "id": "09bdc90c",
   "metadata": {
    "slideshow": {
     "slide_type": "slide"
    }
   },
   "source": [
    "#### `NameError`"
   ]
  },
  {
   "cell_type": "code",
   "execution_count": 2,
   "id": "bd87a533",
   "metadata": {
    "slideshow": {
     "slide_type": "-"
    }
   },
   "outputs": [
    {
     "ename": "NameError",
     "evalue": "name 'new_var' is not defined",
     "output_type": "error",
     "traceback": [
      "\u001b[0;31m---------------------------------------------------------------------------\u001b[0m",
      "\u001b[0;31mNameError\u001b[0m                                 Traceback (most recent call last)",
      "Cell \u001b[0;32mIn[2], line 2\u001b[0m\n\u001b[1;32m      1\u001b[0m \u001b[38;5;66;03m### Referencing a variable that hasn't been created\u001b[39;00m\n\u001b[0;32m----> 2\u001b[0m new_var\n",
      "\u001b[0;31mNameError\u001b[0m: name 'new_var' is not defined"
     ]
    }
   ],
   "source": [
    "### Referencing a variable that hasn't been created\n",
    "new_var"
   ]
  },
  {
   "cell_type": "markdown",
   "id": "71f77780",
   "metadata": {
    "slideshow": {
     "slide_type": "slide"
    }
   },
   "source": [
    "#### `AssertionError`\n",
    "\n",
    "This is what we use to write the **auto-grader**!"
   ]
  },
  {
   "cell_type": "code",
   "execution_count": 3,
   "id": "36b5bba7",
   "metadata": {
    "slideshow": {
     "slide_type": "-"
    }
   },
   "outputs": [
    {
     "ename": "AssertionError",
     "evalue": "",
     "output_type": "error",
     "traceback": [
      "\u001b[0;31m---------------------------------------------------------------------------\u001b[0m",
      "\u001b[0;31mAssertionError\u001b[0m                            Traceback (most recent call last)",
      "Cell \u001b[0;32mIn[3], line 2\u001b[0m\n\u001b[1;32m      1\u001b[0m \u001b[38;5;66;03m### Asserted statement is False\u001b[39;00m\n\u001b[0;32m----> 2\u001b[0m \u001b[38;5;28;01massert\u001b[39;00m \u001b[38;5;241m2\u001b[39m \u001b[38;5;241m==\u001b[39m \u001b[38;5;241m3\u001b[39m\n",
      "\u001b[0;31mAssertionError\u001b[0m: "
     ]
    }
   ],
   "source": [
    "### Asserted statement is False\n",
    "assert 2 == 3"
   ]
  },
  {
   "cell_type": "markdown",
   "id": "e9fdf4c7",
   "metadata": {
    "slideshow": {
     "slide_type": "slide"
    }
   },
   "source": [
    "#### Check-in: predicting an `Exception` (1)\n",
    "\n",
    "What kind of `Exception` would this code throw?\n",
    "\n",
    "```python\n",
    "numbers = [1, 2, 3]\n",
    "print(numbers[3])\n",
    "```"
   ]
  },
  {
   "cell_type": "code",
   "execution_count": 4,
   "id": "86263103",
   "metadata": {
    "slideshow": {
     "slide_type": "-"
    }
   },
   "outputs": [],
   "source": [
    "### Your answer here"
   ]
  },
  {
   "cell_type": "markdown",
   "id": "1328d059",
   "metadata": {
    "slideshow": {
     "slide_type": "slide"
    }
   },
   "source": [
    "#### `IndexError`"
   ]
  },
  {
   "cell_type": "code",
   "execution_count": 5,
   "id": "ab7f3a35",
   "metadata": {
    "slideshow": {
     "slide_type": "-"
    }
   },
   "outputs": [
    {
     "ename": "IndexError",
     "evalue": "list index out of range",
     "output_type": "error",
     "traceback": [
      "\u001b[0;31m---------------------------------------------------------------------------\u001b[0m",
      "\u001b[0;31mIndexError\u001b[0m                                Traceback (most recent call last)",
      "Cell \u001b[0;32mIn[5], line 2\u001b[0m\n\u001b[1;32m      1\u001b[0m numbers \u001b[38;5;241m=\u001b[39m [\u001b[38;5;241m1\u001b[39m, \u001b[38;5;241m2\u001b[39m, \u001b[38;5;241m3\u001b[39m]\n\u001b[0;32m----> 2\u001b[0m \u001b[38;5;28mprint\u001b[39m(numbers[\u001b[38;5;241m3\u001b[39m])\n",
      "\u001b[0;31mIndexError\u001b[0m: list index out of range"
     ]
    }
   ],
   "source": [
    "numbers = [1, 2, 3]\n",
    "print(numbers[3])"
   ]
  },
  {
   "cell_type": "markdown",
   "id": "47d5386c",
   "metadata": {
    "slideshow": {
     "slide_type": "slide"
    }
   },
   "source": [
    "#### Check-in: predicting an `Exception` (2)\n",
    "\n",
    "What kind of `Exception` would this code throw?\n",
    "\n",
    "```python\n",
    "my_dictionary = {'a': 1}\n",
    "print(my_dictionary['b'])\n",
    "```"
   ]
  },
  {
   "cell_type": "code",
   "execution_count": 6,
   "id": "6c931017",
   "metadata": {
    "slideshow": {
     "slide_type": "-"
    }
   },
   "outputs": [],
   "source": [
    "### Your answer here"
   ]
  },
  {
   "cell_type": "markdown",
   "id": "5c9f49da",
   "metadata": {
    "slideshow": {
     "slide_type": "slide"
    }
   },
   "source": [
    "#### `KeyError`"
   ]
  },
  {
   "cell_type": "code",
   "execution_count": 7,
   "id": "bf440dd5",
   "metadata": {
    "slideshow": {
     "slide_type": "-"
    }
   },
   "outputs": [
    {
     "ename": "KeyError",
     "evalue": "'b'",
     "output_type": "error",
     "traceback": [
      "\u001b[0;31m---------------------------------------------------------------------------\u001b[0m",
      "\u001b[0;31mKeyError\u001b[0m                                  Traceback (most recent call last)",
      "Cell \u001b[0;32mIn[7], line 2\u001b[0m\n\u001b[1;32m      1\u001b[0m my_dictionary \u001b[38;5;241m=\u001b[39m {\u001b[38;5;124m'\u001b[39m\u001b[38;5;124ma\u001b[39m\u001b[38;5;124m'\u001b[39m: \u001b[38;5;241m1\u001b[39m}\n\u001b[0;32m----> 2\u001b[0m \u001b[38;5;28mprint\u001b[39m(my_dictionary[\u001b[38;5;124m'\u001b[39m\u001b[38;5;124mb\u001b[39m\u001b[38;5;124m'\u001b[39m])\n",
      "\u001b[0;31mKeyError\u001b[0m: 'b'"
     ]
    }
   ],
   "source": [
    "my_dictionary = {'a': 1}\n",
    "print(my_dictionary['b'])"
   ]
  },
  {
   "cell_type": "markdown",
   "id": "05574362",
   "metadata": {
    "slideshow": {
     "slide_type": "slide"
    }
   },
   "source": [
    "### Debugging: Exceptions are your friend!\n",
    "\n",
    "- Python is *fairly* user-friendly when it comes to error statements.\n",
    "- If your code throws an error:\n",
    "   - Look at the `type` of the `Exception`.  \n",
    "   - Read the *error statement* for more clues."
   ]
  },
  {
   "cell_type": "markdown",
   "id": "ff5f3e16",
   "metadata": {
    "slideshow": {
     "slide_type": "slide"
    }
   },
   "source": [
    "#### Debugging in action (1)\n",
    "\n",
    "- `Exception` --> `TypeError`\n",
    "   - We're applying an operator to an inappropriate `type`!\n",
    "- Error message --> \"can only concatenate str (not \"int\") to str\"\n",
    "   - Python tried to concatenate our terms and failed."
   ]
  },
  {
   "cell_type": "code",
   "execution_count": 8,
   "id": "9233f534",
   "metadata": {
    "slideshow": {
     "slide_type": "-"
    }
   },
   "outputs": [
    {
     "ename": "TypeError",
     "evalue": "can only concatenate str (not \"int\") to str",
     "output_type": "error",
     "traceback": [
      "\u001b[0;31m---------------------------------------------------------------------------\u001b[0m",
      "\u001b[0;31mTypeError\u001b[0m                                 Traceback (most recent call last)",
      "Cell \u001b[0;32mIn[8], line 3\u001b[0m\n\u001b[1;32m      1\u001b[0m num1 \u001b[38;5;241m=\u001b[39m \u001b[38;5;124m\"\u001b[39m\u001b[38;5;124m100\u001b[39m\u001b[38;5;124m\"\u001b[39m\n\u001b[1;32m      2\u001b[0m num2 \u001b[38;5;241m=\u001b[39m \u001b[38;5;241m50\u001b[39m\n\u001b[0;32m----> 3\u001b[0m num1 \u001b[38;5;241m+\u001b[39m num2\n",
      "\u001b[0;31mTypeError\u001b[0m: can only concatenate str (not \"int\") to str"
     ]
    }
   ],
   "source": [
    "num1 = \"100\"\n",
    "num2 = 50\n",
    "num1 + num2"
   ]
  },
  {
   "cell_type": "markdown",
   "id": "b31889ff",
   "metadata": {
    "slideshow": {
     "slide_type": "slide"
    }
   },
   "source": [
    "### Catching `Exception`s with `try/except`\n",
    "\n",
    "> In Python, a `try/except` block allows you to *catch* an `Exception` so the code doesn't throw an error.\n",
    "\n",
    "- `try`: \"try\" running this piece of code.  \n",
    "- `except`: if a certain `Exception` is identified, run this other piece of code instead.  \n",
    "- Kind of like an `if/else` statement but for errors!\n",
    "\n",
    "```python\n",
    "try:\n",
    "    ... # code to try\n",
    "except Exception as e:\n",
    "    ... # code to do instead\n",
    "\n",
    "```"
   ]
  },
  {
   "cell_type": "markdown",
   "id": "e784f25c",
   "metadata": {
    "slideshow": {
     "slide_type": "slide"
    }
   },
   "source": [
    "#### `try/except` in action\n",
    "\n",
    "In this case, we use a generic `Exception` in our `except` block. This isn't always a great strategy!"
   ]
  },
  {
   "cell_type": "code",
   "execution_count": 9,
   "id": "86b2f041",
   "metadata": {
    "slideshow": {
     "slide_type": "-"
    }
   },
   "outputs": [
    {
     "name": "stdout",
     "output_type": "stream",
     "text": [
      "Couldn't run code\n"
     ]
    }
   ],
   "source": [
    "num1 = \"1\"\n",
    "num2 = 3\n",
    "try:\n",
    "    ans = num1 / num2\n",
    "except Exception as e:\n",
    "    print(\"Couldn't run code\")"
   ]
  },
  {
   "cell_type": "markdown",
   "id": "1d2c4875",
   "metadata": {
    "slideshow": {
     "slide_type": "slide"
    }
   },
   "source": [
    "#### Refining our `except`\n",
    "\n",
    "- Ideally, our `except` statement would have a more *specific* `Exception`.\n",
    "- That way, our code will still fail if *other*, unforeseen errors arise."
   ]
  },
  {
   "cell_type": "code",
   "execution_count": 10,
   "id": "a07c2a6c",
   "metadata": {
    "slideshow": {
     "slide_type": "-"
    }
   },
   "outputs": [
    {
     "name": "stdout",
     "output_type": "stream",
     "text": [
      "Couldn't run code\n"
     ]
    }
   ],
   "source": [
    "num1 = \"1\"\n",
    "num2 = 3\n",
    "try:\n",
    "    ans = num1 / num2\n",
    "except TypeError as e:\n",
    "    print(\"Couldn't run code\")"
   ]
  },
  {
   "cell_type": "markdown",
   "id": "d184014b",
   "metadata": {
    "slideshow": {
     "slide_type": "slide"
    }
   },
   "source": [
    "#### Check-in: `try/except`\n",
    "\n",
    "The following piece of code throws an `Exception`. Modify the function with a `try/except` block that will *catch* this type of `Exception`, but allow other errors to rise."
   ]
  },
  {
   "cell_type": "code",
   "execution_count": 11,
   "id": "aeb5ef53",
   "metadata": {
    "slideshow": {
     "slide_type": "-"
    }
   },
   "outputs": [
    {
     "ename": "ZeroDivisionError",
     "evalue": "division by zero",
     "output_type": "error",
     "traceback": [
      "\u001b[0;31m---------------------------------------------------------------------------\u001b[0m",
      "\u001b[0;31mZeroDivisionError\u001b[0m                         Traceback (most recent call last)",
      "Cell \u001b[0;32mIn[11], line 4\u001b[0m\n\u001b[1;32m      1\u001b[0m \u001b[38;5;28;01mdef\u001b[39;00m \u001b[38;5;21mdivide\u001b[39m(num1, num2):\n\u001b[1;32m      2\u001b[0m     \u001b[38;5;28;01mreturn\u001b[39;00m num1 \u001b[38;5;241m/\u001b[39m num2\n\u001b[0;32m----> 4\u001b[0m divide(\u001b[38;5;241m1\u001b[39m, \u001b[38;5;241m0\u001b[39m)\n",
      "Cell \u001b[0;32mIn[11], line 2\u001b[0m, in \u001b[0;36mdivide\u001b[0;34m(num1, num2)\u001b[0m\n\u001b[1;32m      1\u001b[0m \u001b[38;5;28;01mdef\u001b[39;00m \u001b[38;5;21mdivide\u001b[39m(num1, num2):\n\u001b[0;32m----> 2\u001b[0m     \u001b[38;5;28;01mreturn\u001b[39;00m num1 \u001b[38;5;241m/\u001b[39m num2\n",
      "\u001b[0;31mZeroDivisionError\u001b[0m: division by zero"
     ]
    }
   ],
   "source": [
    "def divide(num1, num2):\n",
    "    return num1 / num2\n",
    "\n",
    "divide(1, 0)"
   ]
  },
  {
   "cell_type": "markdown",
   "id": "80ee80f6",
   "metadata": {
    "slideshow": {
     "slide_type": "slide"
    }
   },
   "source": [
    "#### Implementation 1: too broad"
   ]
  },
  {
   "cell_type": "code",
   "execution_count": 12,
   "id": "0673ff49",
   "metadata": {
    "slideshow": {
     "slide_type": "-"
    }
   },
   "outputs": [],
   "source": [
    "def divide(num1, num2):\n",
    "    try:\n",
    "        return num1 / num2\n",
    "    except Exception as e:\n",
    "        print(\"Can't divide by zero!\")"
   ]
  },
  {
   "cell_type": "code",
   "execution_count": 13,
   "id": "c6747831",
   "metadata": {
    "slideshow": {
     "slide_type": "-"
    }
   },
   "outputs": [
    {
     "name": "stdout",
     "output_type": "stream",
     "text": [
      "Can't divide by zero!\n"
     ]
    }
   ],
   "source": [
    "divide(1,0) ### Works as intended"
   ]
  },
  {
   "cell_type": "code",
   "execution_count": 14,
   "id": "5a5350a0",
   "metadata": {
    "slideshow": {
     "slide_type": "-"
    }
   },
   "outputs": [
    {
     "name": "stdout",
     "output_type": "stream",
     "text": [
      "Can't divide by zero!\n"
     ]
    }
   ],
   "source": [
    "divide(1,\"two\") ### But this is a different error"
   ]
  },
  {
   "cell_type": "markdown",
   "id": "f5299cdb",
   "metadata": {
    "slideshow": {
     "slide_type": "slide"
    }
   },
   "source": [
    "#### Implementation 2: `ZeroDivisionError`"
   ]
  },
  {
   "cell_type": "code",
   "execution_count": 15,
   "id": "8e542abc",
   "metadata": {
    "slideshow": {
     "slide_type": "-"
    }
   },
   "outputs": [],
   "source": [
    "def divide(num1, num2):\n",
    "    try:\n",
    "        return num1 / num2\n",
    "    except ZeroDivisionError as e:\n",
    "        print(\"Can't divide by zero!\")"
   ]
  },
  {
   "cell_type": "code",
   "execution_count": 16,
   "id": "98d41c4a",
   "metadata": {
    "slideshow": {
     "slide_type": "-"
    }
   },
   "outputs": [
    {
     "name": "stdout",
     "output_type": "stream",
     "text": [
      "Can't divide by zero!\n"
     ]
    }
   ],
   "source": [
    "divide(1,0) ### Works as intended"
   ]
  },
  {
   "cell_type": "code",
   "execution_count": 17,
   "id": "6894f8b4",
   "metadata": {
    "slideshow": {
     "slide_type": "-"
    }
   },
   "outputs": [
    {
     "ename": "TypeError",
     "evalue": "unsupported operand type(s) for /: 'int' and 'str'",
     "output_type": "error",
     "traceback": [
      "\u001b[0;31m---------------------------------------------------------------------------\u001b[0m",
      "\u001b[0;31mTypeError\u001b[0m                                 Traceback (most recent call last)",
      "Cell \u001b[0;32mIn[17], line 1\u001b[0m\n\u001b[0;32m----> 1\u001b[0m divide(\u001b[38;5;241m1\u001b[39m,\u001b[38;5;124m\"\u001b[39m\u001b[38;5;124mtwo\u001b[39m\u001b[38;5;124m\"\u001b[39m)\n",
      "Cell \u001b[0;32mIn[15], line 3\u001b[0m, in \u001b[0;36mdivide\u001b[0;34m(num1, num2)\u001b[0m\n\u001b[1;32m      1\u001b[0m \u001b[38;5;28;01mdef\u001b[39;00m \u001b[38;5;21mdivide\u001b[39m(num1, num2):\n\u001b[1;32m      2\u001b[0m     \u001b[38;5;28;01mtry\u001b[39;00m:\n\u001b[0;32m----> 3\u001b[0m         \u001b[38;5;28;01mreturn\u001b[39;00m num1 \u001b[38;5;241m/\u001b[39m num2\n\u001b[1;32m      4\u001b[0m     \u001b[38;5;28;01mexcept\u001b[39;00m \u001b[38;5;167;01mZeroDivisionError\u001b[39;00m \u001b[38;5;28;01mas\u001b[39;00m e:\n\u001b[1;32m      5\u001b[0m         \u001b[38;5;28mprint\u001b[39m(\u001b[38;5;124m\"\u001b[39m\u001b[38;5;124mCan\u001b[39m\u001b[38;5;124m'\u001b[39m\u001b[38;5;124mt divide by zero!\u001b[39m\u001b[38;5;124m\"\u001b[39m)\n",
      "\u001b[0;31mTypeError\u001b[0m: unsupported operand type(s) for /: 'int' and 'str'"
     ]
    }
   ],
   "source": [
    "divide(1,\"two\") ### Still throws this error, as we wanted"
   ]
  },
  {
   "cell_type": "markdown",
   "id": "3570bdc6",
   "metadata": {
    "slideshow": {
     "slide_type": "slide"
    }
   },
   "source": [
    "## Documenting with *docstrings*\n",
    "\n",
    "> A **docstring** is a \"documentation string\", and is often used to document custom functions to explain what they do.\n",
    "\n",
    "- Documenting your code is very important!  \n",
    "- You can think of programming as *communicating your intent*.\n",
    "   - Telling the *machine* what you want it to do.\n",
    "   - Telling *other people* what you wanted the machine to do."
   ]
  },
  {
   "cell_type": "markdown",
   "id": "47290f26",
   "metadata": {
    "slideshow": {
     "slide_type": "slide"
    }
   },
   "source": [
    "### A very simple docstring\n",
    "\n",
    "A simple docstring can be created by adding a `str` underneath your function definition."
   ]
  },
  {
   "cell_type": "code",
   "execution_count": 1,
   "id": "52c6e193",
   "metadata": {
    "slideshow": {
     "slide_type": "-"
    }
   },
   "outputs": [],
   "source": [
    "def my_function(x, n):\n",
    "    \"\"\"This is a docstring.\"\"\"\n",
    "    return x ** n"
   ]
  },
  {
   "cell_type": "code",
   "execution_count": 2,
   "id": "99f7816c",
   "metadata": {
    "slideshow": {
     "slide_type": "-"
    }
   },
   "outputs": [
    {
     "name": "stdout",
     "output_type": "stream",
     "text": [
      "Help on function my_function in module __main__:\n",
      "\n",
      "my_function(x, n)\n",
      "    This is a docstring.\n",
      "\n"
     ]
    }
   ],
   "source": [
    "### When you call help, it will include the docstring\n",
    "help(my_function)"
   ]
  },
  {
   "cell_type": "markdown",
   "id": "83c1e145",
   "metadata": {
    "slideshow": {
     "slide_type": "slide"
    }
   },
   "source": [
    "#### Check-in: a better docstring\n",
    "\n",
    "What would be a *better* docstring for that function?"
   ]
  },
  {
   "cell_type": "code",
   "execution_count": 3,
   "id": "b4266996",
   "metadata": {
    "slideshow": {
     "slide_type": "-"
    }
   },
   "outputs": [],
   "source": [
    "def my_function(x, n):\n",
    "    \"\"\"...\"\"\"\n",
    "    return x ** n"
   ]
  },
  {
   "cell_type": "markdown",
   "id": "3b5ae35c",
   "metadata": {
    "slideshow": {
     "slide_type": "slide"
    }
   },
   "source": [
    "#### A better docstring"
   ]
  },
  {
   "cell_type": "code",
   "execution_count": 4,
   "id": "7a50d8a1",
   "metadata": {
    "slideshow": {
     "slide_type": "-"
    }
   },
   "outputs": [],
   "source": [
    "def my_function(x, n):\n",
    "    \"\"\"Raises x to the power of n.\"\"\"\n",
    "    return x ** n"
   ]
  },
  {
   "cell_type": "code",
   "execution_count": 5,
   "id": "3ac41bad",
   "metadata": {},
   "outputs": [
    {
     "name": "stdout",
     "output_type": "stream",
     "text": [
      "Help on function my_function in module __main__:\n",
      "\n",
      "my_function(x, n)\n",
      "    Raises x to the power of n.\n",
      "\n"
     ]
    }
   ],
   "source": [
    "help(my_function)"
   ]
  },
  {
   "cell_type": "markdown",
   "id": "879d8767",
   "metadata": {
    "slideshow": {
     "slide_type": "slide"
    }
   },
   "source": [
    "### Docstring conventions\n",
    "\n",
    "- A common **convention** is to include:\n",
    "   - The *parameters* of a function.  \n",
    "   - What a function *returns*.\n",
    "   - An *example* of the function.\n",
    "- This is how many Python libraries document their functions, e.g., [`pandas.read_csv`](https://pandas.pydata.org/pandas-docs/stable/reference/api/pandas.read_csv.html)."
   ]
  },
  {
   "cell_type": "markdown",
   "id": "131c805f",
   "metadata": {
    "slideshow": {
     "slide_type": "slide"
    }
   },
   "source": [
    "#### The convention in action"
   ]
  },
  {
   "cell_type": "code",
   "execution_count": 6,
   "id": "d767a96f",
   "metadata": {
    "slideshow": {
     "slide_type": "-"
    }
   },
   "outputs": [],
   "source": [
    "def my_function(x, n):\n",
    "    \"\"\"\n",
    "    Raises x to the power of n.\n",
    "    \n",
    "    Parameters\n",
    "    ----------\n",
    "    x: float\n",
    "      number to be raised\n",
    "    n: int\n",
    "      exponent\n",
    "    \n",
    "    Returns\n",
    "    -------\n",
    "    x raised to the power of n\n",
    "    \n",
    "    Examples\n",
    "    --------\n",
    "    >>> my_function(2, 2)\n",
    "    4\n",
    "    \"\"\"\n",
    "    return x ** n"
   ]
  },
  {
   "cell_type": "markdown",
   "id": "e13c6bd6",
   "metadata": {
    "slideshow": {
     "slide_type": "slide"
    }
   },
   "source": [
    "#### Check-in: write your own docstring!\n",
    "\n",
    "Consider the (poorly written) function below. Figure out what it does, then write a docstring explaining it."
   ]
  },
  {
   "cell_type": "code",
   "execution_count": 9,
   "id": "41dcc632",
   "metadata": {
    "slideshow": {
     "slide_type": "-"
    }
   },
   "outputs": [],
   "source": [
    "def black_box_function(x, v = ['a', 'e', 'i', 'o', 'u']):\n",
    "    '''\n",
    "    counts number of times characters in v occur in x.\n",
    "\n",
    "    Parameters\n",
    "    ----------\n",
    "    x : str\n",
    "        string we want to search in\n",
    "    v : list\n",
    "        list of characters to search for in x\n",
    "    \n",
    "    Returns\n",
    "    -------\n",
    "    # times items in v occur in x\n",
    "\n",
    "    Example\n",
    "    -------\n",
    "    >>> black_box_function('cat')\n",
    "    1\n",
    "    '''\n",
    "    c = 0\n",
    "    for i1 in v:\n",
    "        for i2 in x:\n",
    "            if i1 in i2:\n",
    "                c += 1\n",
    "    return c"
   ]
  },
  {
   "cell_type": "code",
   "execution_count": 10,
   "id": "71d11167",
   "metadata": {
    "slideshow": {
     "slide_type": "-"
    }
   },
   "outputs": [
    {
     "data": {
      "text/plain": [
       "4"
      ]
     },
     "execution_count": 10,
     "metadata": {},
     "output_type": "execute_result"
    }
   ],
   "source": [
    "black_box_function(\"the big red dog\")"
   ]
  },
  {
   "cell_type": "code",
   "execution_count": 11,
   "id": "c9f76117",
   "metadata": {},
   "outputs": [
    {
     "name": "stdout",
     "output_type": "stream",
     "text": [
      "Help on function black_box_function in module __main__:\n",
      "\n",
      "black_box_function(x, v=['a', 'e', 'i', 'o', 'u'])\n",
      "    counts number of times characters in v occur in x.\n",
      "    \n",
      "    Parameters\n",
      "    ----------\n",
      "    x : str\n",
      "        string we want to search in\n",
      "    v : list\n",
      "        list of characters to search for in x\n",
      "    \n",
      "    Returns\n",
      "    -------\n",
      "    # times items in v occur in x\n",
      "    \n",
      "    Example\n",
      "    -------\n",
      "    >>> black_box_function('cat')\n",
      "    1\n",
      "\n"
     ]
    }
   ],
   "source": [
    "help(black_box_function)"
   ]
  },
  {
   "cell_type": "markdown",
   "id": "7b3107b4",
   "metadata": {
    "slideshow": {
     "slide_type": "slide"
    }
   },
   "source": [
    "#### Possible docstring\n",
    "\n",
    "This function seems like it *counts* the number of times characters in a list occur in a string. \n",
    "\n",
    "```python\n",
    "def black_box_function(x, v = ['a', 'e', 'i', 'o', 'u']):\n",
    "    \"\"\"\n",
    "    Counts number of times entries in v occur in x.\n",
    "    \n",
    "    Parameters\n",
    "    ----------\n",
    "    x: str\n",
    "       word or passage\n",
    "    v: list\n",
    "       list of characters to count\n",
    "    \n",
    "    Returns\n",
    "    -------\n",
    "    c: int\n",
    "       count of each item in v in x\n",
    "    \n",
    "    Examples\n",
    "    --------\n",
    "    >>> black_box_function(\"dog\")\n",
    "    1\n",
    "\n",
    "```"
   ]
  },
  {
   "cell_type": "markdown",
   "id": "cebf97d6",
   "metadata": {
    "slideshow": {
     "slide_type": "slide"
    }
   },
   "source": [
    "#### Docstring for *classes*\n",
    "\n",
    "- Writing docstrings for a *class* is very similar.\n",
    "- Each *method* can be documented using the convention we just discussed.\n",
    "- The *class itself* can include:\n",
    "   - `Attributes`: brief description of each attribute.\n",
    "   - `Methods`: brief description of each method.\n",
    "   - `Examples`: e.g., constructing the class."
   ]
  },
  {
   "cell_type": "markdown",
   "id": "48703452",
   "metadata": {
    "slideshow": {
     "slide_type": "slide"
    }
   },
   "source": [
    "### Documentation in CSS 100\n",
    "\n",
    "- In this class, assignments will mostly *not* require docstrings.  \n",
    "- However, that doesn't mean you shouldn't try to write them!\n",
    "- Further, some labs may require you to write a function *from* a docstring."
   ]
  },
  {
   "cell_type": "markdown",
   "id": "413c611d",
   "metadata": {
    "slideshow": {
     "slide_type": "slide"
    }
   },
   "source": [
    "### Documentation: best practices\n",
    "\n",
    "- Beyond CSS 100, **documenting your code** is very important.  \n",
    "- Remember: writing code is a form of **communication**.  \n",
    "- In Python, there are some *conventions* and *best practices*.\n",
    "   - Name things in a *clear way* (not just `i`, `i2`, etc.).\n",
    "   - Where possible, *document* your functions and classes.  \n",
    "- There are [tools](https://wiki.python.org/moin/DocumentationTools) for automatically creating documentation materials from your *docstrings*."
   ]
  },
  {
   "cell_type": "markdown",
   "id": "5e3a0b99",
   "metadata": {
    "slideshow": {
     "slide_type": "slide"
    }
   },
   "source": [
    "## Wrap-up\n",
    "\n",
    "- This concludes our unit on **leveling up Python programming**:\n",
    "   - Object-oriented programming.\n",
    "   - Dealing with `Exception`s.\n",
    "   - Documenting your code.\n",
    "- Of course, not at all complete! \n",
    "- But will set useful *basis* for rest of course."
   ]
  }
 ],
 "metadata": {
  "celltoolbar": "Slideshow",
  "kernelspec": {
   "display_name": "Python 3 (ipykernel)",
   "language": "python",
   "name": "python3"
  },
  "language_info": {
   "codemirror_mode": {
    "name": "ipython",
    "version": 3
   },
   "file_extension": ".py",
   "mimetype": "text/x-python",
   "name": "python",
   "nbconvert_exporter": "python",
   "pygments_lexer": "ipython3",
   "version": "3.10.5"
  }
 },
 "nbformat": 4,
 "nbformat_minor": 5
}
