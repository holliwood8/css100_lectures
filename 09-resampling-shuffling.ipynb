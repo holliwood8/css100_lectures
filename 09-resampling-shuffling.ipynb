{
 "cells": [
  {
   "cell_type": "markdown",
   "id": "ff28d1c9",
   "metadata": {
    "slideshow": {
     "slide_type": "slide"
    }
   },
   "source": [
    "# Resampling methods: permutation tests"
   ]
  },
  {
   "cell_type": "markdown",
   "id": "7a2daca7",
   "metadata": {
    "slideshow": {
     "slide_type": "slide"
    }
   },
   "source": [
    "## Lecture plan\n",
    "\n",
    "- CSS 100 in context: where are we now?\n",
    "- Review: hypothesis testing.\n",
    "   - Are these two samples from *different populations*?\n",
    "   - The traditional approach.\n",
    "- An alternative approach: **permutation tests**.  \n",
    "   - Explanation, and connection to **Central Limit Theorem**.\n",
    "- Permutation tests in action."
   ]
  },
  {
   "cell_type": "code",
   "execution_count": 1,
   "id": "c510a8b8",
   "metadata": {
    "slideshow": {
     "slide_type": "-"
    }
   },
   "outputs": [],
   "source": [
    "import pandas as pd\n",
    "import numpy as np\n",
    "import seaborn as sns\n",
    "import matplotlib.pyplot as plt"
   ]
  },
  {
   "cell_type": "markdown",
   "id": "100da1aa",
   "metadata": {
    "slideshow": {
     "slide_type": "slide"
    }
   },
   "source": [
    "## Where are we now?\n",
    "\n",
    "> **CSS 100** equips students with *advanced techniques* for processing, modeling, and analyzing social science data of various kinds.\n",
    "\n",
    "- Week 1: *Object-oriented programming*.\n",
    "- Weeks 2-3: Basic tools for using *text as data*.  \n",
    "- Weeks 4-7: Advanced *statistical tools* for answering research questions.\n",
    "- Weeks 8-10: The deep learning revolution.\n",
    "\n",
    "We're in **week 4**: shifting from processing text to working with numbers."
   ]
  },
  {
   "cell_type": "markdown",
   "id": "33192a12",
   "metadata": {
    "slideshow": {
     "slide_type": "slide"
    }
   },
   "source": [
    "## Review: Hypothesis testing\n",
    "\n",
    "In CSS, we frequenly want to **test some hypothesis**.\n",
    "\n",
    "- Was a new vaccine successful in preventing infections?  \n",
    "- Does the minimum wage affect the unemployment rate?  \n",
    "- Are people faster to recognize *short* words than *long* words?\n",
    "\n",
    "In each case, we must *operationalize* this question in terms of **statistical distributions**."
   ]
  },
  {
   "cell_type": "markdown",
   "id": "99672fa2",
   "metadata": {
    "slideshow": {
     "slide_type": "slide"
    }
   },
   "source": [
    "### Distributions in practice: An example\n",
    "\n",
    "*Example*: Do people recognize `Short` words faster than `Long` words?"
   ]
  },
  {
   "cell_type": "code",
   "execution_count": 2,
   "id": "bef118b3",
   "metadata": {
    "slideshow": {
     "slide_type": "-"
    }
   },
   "outputs": [
    {
     "data": {
      "text/html": [
       "<div>\n",
       "<style scoped>\n",
       "    .dataframe tbody tr th:only-of-type {\n",
       "        vertical-align: middle;\n",
       "    }\n",
       "\n",
       "    .dataframe tbody tr th {\n",
       "        vertical-align: top;\n",
       "    }\n",
       "\n",
       "    .dataframe thead th {\n",
       "        text-align: right;\n",
       "    }\n",
       "</style>\n",
       "<table border=\"1\" class=\"dataframe\">\n",
       "  <thead>\n",
       "    <tr style=\"text-align: right;\">\n",
       "      <th></th>\n",
       "      <th>Length</th>\n",
       "      <th>Reaction Time</th>\n",
       "    </tr>\n",
       "  </thead>\n",
       "  <tbody>\n",
       "    <tr>\n",
       "      <th>147</th>\n",
       "      <td>Long</td>\n",
       "      <td>295.563411</td>\n",
       "    </tr>\n",
       "    <tr>\n",
       "      <th>145</th>\n",
       "      <td>Long</td>\n",
       "      <td>186.050455</td>\n",
       "    </tr>\n",
       "    <tr>\n",
       "      <th>44</th>\n",
       "      <td>Short</td>\n",
       "      <td>236.650453</td>\n",
       "    </tr>\n",
       "    <tr>\n",
       "      <th>5</th>\n",
       "      <td>Short</td>\n",
       "      <td>283.407948</td>\n",
       "    </tr>\n",
       "    <tr>\n",
       "      <th>110</th>\n",
       "      <td>Long</td>\n",
       "      <td>227.935166</td>\n",
       "    </tr>\n",
       "  </tbody>\n",
       "</table>\n",
       "</div>"
      ],
      "text/plain": [
       "    Length  Reaction Time\n",
       "147   Long     295.563411\n",
       "145   Long     186.050455\n",
       "44   Short     236.650453\n",
       "5    Short     283.407948\n",
       "110   Long     227.935166"
      ]
     },
     "execution_count": 2,
     "metadata": {},
     "output_type": "execute_result"
    }
   ],
   "source": [
    "df_example = pd.read_csv(\"data/resampling/example.csv\")\n",
    "df_example.sample(5)"
   ]
  },
  {
   "cell_type": "markdown",
   "id": "1598620a",
   "metadata": {
    "slideshow": {
     "slide_type": "slide"
    }
   },
   "source": [
    "#### Check-in\n",
    "\n",
    "Make a visualization comparing `Long` vs. `Short` words in terms of their `Reaction Time`. What do you notice?"
   ]
  },
  {
   "cell_type": "code",
   "execution_count": 4,
   "id": "a8480de0",
   "metadata": {},
   "outputs": [
    {
     "data": {
      "image/png": "[encoded data removed]",
      "text/plain": [
       "<Figure size 640x480 with 1 Axes>"
      ]
     },
     "metadata": {},
     "output_type": "display_data"
    }
   ],
   "source": [
    "sns.barplot(df_example, x='Length', y='Reaction Time');"
   ]
  },
  {
   "cell_type": "markdown",
   "id": "e375f8e1",
   "metadata": {
    "slideshow": {
     "slide_type": "slide"
    }
   },
   "source": [
    "#### An example visualization"
   ]
  },
  {
   "cell_type": "code",
   "execution_count": 5,
   "id": "49f4dd58",
   "metadata": {
    "slideshow": {
     "slide_type": "-"
    }
   },
   "outputs": [
    {
     "data": {
      "text/plain": [
       "<seaborn.axisgrid.FacetGrid at 0x1444b7ee0>"
      ]
     },
     "execution_count": 5,
     "metadata": {},
     "output_type": "execute_result"
    },
    {
     "data": {
      "image/png": "[encoded data removed]",
      "text/plain": [
       "<Figure size 587.25x500 with 1 Axes>"
      ]
     },
     "metadata": {},
     "output_type": "display_data"
    }
   ],
   "source": [
    "sns.displot(data = df_example, x = \"Reaction Time\", \n",
    "            hue = \"Length\", kind = 'kde', fill = True)"
   ]
  },
  {
   "cell_type": "markdown",
   "id": "7b9f31b3",
   "metadata": {
    "slideshow": {
     "slide_type": "slide"
    }
   },
   "source": [
    "### Are two distributions *different*?\n",
    "\n",
    "- It *seems* like those distributions are different.\n",
    "   - On average, `Reaction Time` larger for `Long` than `Short` words.\n",
    "- But how do we know this difference is \"real\", as opposed to **sampling error**?"
   ]
  },
  {
   "cell_type": "code",
   "execution_count": 6,
   "id": "8818b4d7",
   "metadata": {
    "slideshow": {
     "slide_type": "-"
    }
   },
   "outputs": [
    {
     "data": {
      "text/html": [
       "<div>\n",
       "<style scoped>\n",
       "    .dataframe tbody tr th:only-of-type {\n",
       "        vertical-align: middle;\n",
       "    }\n",
       "\n",
       "    .dataframe tbody tr th {\n",
       "        vertical-align: top;\n",
       "    }\n",
       "\n",
       "    .dataframe thead th {\n",
       "        text-align: right;\n",
       "    }\n",
       "</style>\n",
       "<table border=\"1\" class=\"dataframe\">\n",
       "  <thead>\n",
       "    <tr style=\"text-align: right;\">\n",
       "      <th></th>\n",
       "      <th>Reaction Time</th>\n",
       "    </tr>\n",
       "    <tr>\n",
       "      <th>Length</th>\n",
       "      <th></th>\n",
       "    </tr>\n",
       "  </thead>\n",
       "  <tbody>\n",
       "    <tr>\n",
       "      <th>Long</th>\n",
       "      <td>237.448297</td>\n",
       "    </tr>\n",
       "    <tr>\n",
       "      <th>Short</th>\n",
       "      <td>201.231160</td>\n",
       "    </tr>\n",
       "  </tbody>\n",
       "</table>\n",
       "</div>"
      ],
      "text/plain": [
       "        Reaction Time\n",
       "Length               \n",
       "Long       237.448297\n",
       "Short      201.231160"
      ]
     },
     "execution_count": 6,
     "metadata": {},
     "output_type": "execute_result"
    }
   ],
   "source": [
    "df_example.groupby(\"Length\").mean()"
   ]
  },
  {
   "cell_type": "markdown",
   "id": "b902e4b6",
   "metadata": {
    "slideshow": {
     "slide_type": "slide"
    }
   },
   "source": [
    "### Review: samples, populations, and sampling error\n",
    "\n",
    "- A **population** is a set of *potential* observations you're interested in.\n",
    "- We can't survey an entire population, so we rely on **samples**.\n",
    "  - A **sample** is an *actual* set of observations drawn (\"sampled\") from the population.\n",
    "- Even random, representative samples will be subject to **sampling error**.  \n",
    "\n",
    "> **Sampling error** means that *statistics* calculated on a sample (e.g., `mean`) will rarely (if ever) be identical to the underlying *population parameter*.\n",
    "\n",
    "*Why might sampling error pose a problem for asking whether two distributions are different?*"
   ]
  },
  {
   "cell_type": "markdown",
   "id": "855db23e",
   "metadata": {
    "slideshow": {
     "slide_type": "slide"
    }
   },
   "source": [
    "### The challenge of sampling error\n",
    "\n",
    "*Question* Are `Reaction Time`s for `Long` and `Short` words actually different?\n",
    "\n",
    "- One possibility is **yes**: they are drawn from different \"populations\".  \n",
    "  - This is consistent with different *means*. \n",
    "- But another possibility is **no**: they're drawn from the same population, with some sampling error.\n",
    "  - This is *also* consistent with different *means*.\n",
    "  \n",
    "**We need some way to measure the difference we'd expect from *sampling error* alone.**"
   ]
  },
  {
   "cell_type": "markdown",
   "id": "c9548784",
   "metadata": {
    "slideshow": {
     "slide_type": "slide"
    }
   },
   "source": [
    "### Hypothesis tests: the traditional approach\n",
    "\n",
    "> A **statistical hypothesis test**, such as a *t-test*, compares some *test statistic* (e.g., *t-statistic*) to a **null distribution**.\n",
    "\n",
    "- The **null distribution** is the set of $t$-values you'd expect if the two samples were in fact drawn from the same population.\n",
    "- We can calculate the *probability value* ($p$-value) of our *actual* $t$-value occurring in that null distribution.  \n",
    "- If $p < .05$, we **reject the null hypothesis** that the samples came from the same distribution."
   ]
  },
  {
   "cell_type": "markdown",
   "id": "aee1b3a4",
   "metadata": {
    "slideshow": {
     "slide_type": "slide"
    }
   },
   "source": [
    "### Visualizing the null distribution\n",
    "\n",
    "- Let's assume *degrees of freedom* (`df`) is 10.\n",
    "- Values closer to 0 are more likely; larger values are less likely."
   ]
  },
  {
   "cell_type": "code",
   "execution_count": 60,
   "id": "9f9c98a7",
   "metadata": {
    "slideshow": {
     "slide_type": "-"
    }
   },
   "outputs": [
    {
     "data": {
      "text/plain": [
       "Text(0, 0.5, 'Probability')"
      ]
     },
     "execution_count": 60,
     "metadata": {},
     "output_type": "execute_result"
    },
    {
     "data": {
      "image/png": "[encoded data removed]",
      "text/plain": [
       "<Figure size 640x480 with 1 Axes>"
      ]
     },
     "metadata": {},
     "output_type": "display_data"
    }
   ],
   "source": [
    "X = np.linspace(-6, 6, 1000)\n",
    "t_distribution = ss.t.pdf(X, 10)\n",
    "plt.plot(X, t_distribution)\n",
    "plt.xlabel(\"T-value\")\n",
    "plt.ylabel(\"Probability\")"
   ]
  },
  {
   "cell_type": "markdown",
   "id": "728e86b1",
   "metadata": {
    "slideshow": {
     "slide_type": "slide"
    }
   },
   "source": [
    "### t-test in action\n",
    "\n",
    "- In this case, we'd want to use the **independent samples t-test** (`scipy.stats.ttest_ind`).  \n",
    "- The `statistic` is larger than we'd expect by chance, so the `pvalue` is small."
   ]
  },
  {
   "cell_type": "code",
   "execution_count": 61,
   "id": "3b381a05",
   "metadata": {
    "slideshow": {
     "slide_type": "-"
    }
   },
   "outputs": [],
   "source": [
    "import scipy.stats as ss"
   ]
  },
  {
   "cell_type": "code",
   "execution_count": 62,
   "id": "4f4570ed",
   "metadata": {
    "slideshow": {
     "slide_type": "-"
    }
   },
   "outputs": [
    {
     "data": {
      "text/plain": [
       "TtestResult(statistic=4.983544613500152, pvalue=1.3583270188465312e-06, df=198.0)"
      ]
     },
     "execution_count": 62,
     "metadata": {},
     "output_type": "execute_result"
    }
   ],
   "source": [
    "short = df_example[df_example['Length']=='Short']['Reaction Time']\n",
    "long = df_example[df_example['Length']=='Long']['Reaction Time']\n",
    "result = ss.ttest_ind(long, short)\n",
    "result"
   ]
  },
  {
   "cell_type": "markdown",
   "id": "46ceed4b",
   "metadata": {
    "slideshow": {
     "slide_type": "slide"
    }
   },
   "source": [
    "### Making it concrete\n",
    "\n",
    "- Our *actual* t-value is very unlikely under the null distribution."
   ]
  },
  {
   "cell_type": "code",
   "execution_count": 63,
   "id": "9ab4a3c0",
   "metadata": {
    "slideshow": {
     "slide_type": "-"
    }
   },
   "outputs": [
    {
     "data": {
      "text/plain": [
       "Text(0, 0.5, 'Probability')"
      ]
     },
     "execution_count": 63,
     "metadata": {},
     "output_type": "execute_result"
    },
    {
     "data": {
      "image/png": "[encoded data removed]",
      "text/plain": [
       "<Figure size 640x480 with 1 Axes>"
      ]
     },
     "metadata": {},
     "output_type": "display_data"
    }
   ],
   "source": [
    "t_distribution = ss.t.pdf(X, 198)\n",
    "plt.plot(X, t_distribution)\n",
    "plt.axvline(result.statistic, linestyle = \"dotted\")\n",
    "plt.xlabel(\"T-value\")\n",
    "plt.ylabel(\"Probability\")"
   ]
  },
  {
   "cell_type": "markdown",
   "id": "e6f3df48",
   "metadata": {
    "slideshow": {
     "slide_type": "slide"
    }
   },
   "source": [
    "### Limitations of traditional hypothesis tests\n",
    "\n",
    "- Traditional hypothesis tests are great, but also **limited**.\n",
    "- Traditional tests have strong **assumptions**.\n",
    "   - Assume *roughly equal variance* across samples.\n",
    "   - Assume specific *shape* of *sampling distribution*, e.g., $\\chi^2$ or $t$.\n",
    "   - Assume specific *test statistic*.\n",
    "- Often, our actual data don't satisfy these assumptions.\n",
    "- We'd like a more **flexible** approach."
   ]
  },
  {
   "cell_type": "markdown",
   "id": "75bc3f53",
   "metadata": {
    "slideshow": {
     "slide_type": "slide"
    }
   },
   "source": [
    "## Permutation tests: an alternative approach\n",
    "\n",
    "> A **permutation test** compares some actual *test statistic* to the distribution of test statistics one would expect if data were **randomly shuffled** (i.e., **permuted**).\n",
    "\n",
    "- Conceptually, very similar to traditional hypothesis tests.  \n",
    "- Main difference: we don't *assume* a specific test statistic or null distribution.\n",
    "\n",
    "**Key insight**: Use the data itself to create your null distribution!"
   ]
  },
  {
   "cell_type": "markdown",
   "id": "53fafae6",
   "metadata": {
    "slideshow": {
     "slide_type": "slide"
    }
   },
   "source": [
    "### Advantages of permutation tests\n",
    "\n",
    "- More **flexible**: can be used with any test statistic.  \n",
    "- Fewer **assumptions**: doesn't require normality or equal variance.  \n",
    "- More **robust**: tends to be more robust to outliers and skewed distributions.  \n",
    "   - The shuffles already account for structure of the data.\n",
    "- More **applicable**: because of flexibility, can be used with more datasets that don't satisfy assumptions of traditional tests.\n",
    "- More **interpretable**: personally, I think they are easier to interpret and explain!"
   ]
  },
  {
   "cell_type": "markdown",
   "id": "c64a6292",
   "metadata": {
    "slideshow": {
     "slide_type": "slide"
    }
   },
   "source": [
    "### Permutation tests: step-by-step\n",
    "\n",
    "1. Calculate the desired **test statistic** for your original samples (e.g., `Long` vs. `Short`). \n",
    "2. Now, *shuffle* the labels of your dataset randomly (e.g., switch up `Long` and `Short`).  \n",
    "3. Calculate test statistic for this new, shuffled dataset.  \n",
    "4. Repeat steps 2-3 many times (e.g., 1000x or more) to form the **permutation distribution**. \n",
    "5. Compare the result from step (1) to step (4). \n",
    "6. What *proportion* of permuted samples resulted in a test statistic larger than the actaul test statistic?"
   ]
  },
  {
   "cell_type": "markdown",
   "id": "e2fcfd80",
   "metadata": {
    "slideshow": {
     "slide_type": "slide"
    }
   },
   "source": [
    "### Connection to *Central Limit Theorem*\n",
    "\n",
    "> The **Central Limit Theorem** (CLT) states that the distribution of sample means approximates a normal distribution, regardless of the underlying distribution.\n",
    "\n",
    "- The *empirical null distribution* resulting from permutation tests also often resembles a normal distribution.  \n",
    "- This allows for easier comparison of our *actual* test statistic to the null distribution."
   ]
  },
  {
   "cell_type": "markdown",
   "id": "87af43bb",
   "metadata": {
    "slideshow": {
     "slide_type": "slide"
    }
   },
   "source": [
    "## Permutation tests in action\n",
    "\n",
    "Now, let's apply permutation tests to our original dataset."
   ]
  },
  {
   "cell_type": "code",
   "execution_count": 7,
   "id": "dbf3e25a",
   "metadata": {
    "slideshow": {
     "slide_type": "-"
    }
   },
   "outputs": [
    {
     "data": {
      "text/html": [
       "<div>\n",
       "<style scoped>\n",
       "    .dataframe tbody tr th:only-of-type {\n",
       "        vertical-align: middle;\n",
       "    }\n",
       "\n",
       "    .dataframe tbody tr th {\n",
       "        vertical-align: top;\n",
       "    }\n",
       "\n",
       "    .dataframe thead th {\n",
       "        text-align: right;\n",
       "    }\n",
       "</style>\n",
       "<table border=\"1\" class=\"dataframe\">\n",
       "  <thead>\n",
       "    <tr style=\"text-align: right;\">\n",
       "      <th></th>\n",
       "      <th>Length</th>\n",
       "      <th>Reaction Time</th>\n",
       "    </tr>\n",
       "  </thead>\n",
       "  <tbody>\n",
       "    <tr>\n",
       "      <th>0</th>\n",
       "      <td>Short</td>\n",
       "      <td>216.800352</td>\n",
       "    </tr>\n",
       "    <tr>\n",
       "      <th>1</th>\n",
       "      <td>Short</td>\n",
       "      <td>244.284309</td>\n",
       "    </tr>\n",
       "  </tbody>\n",
       "</table>\n",
       "</div>"
      ],
      "text/plain": [
       "  Length  Reaction Time\n",
       "0  Short     216.800352\n",
       "1  Short     244.284309"
      ]
     },
     "execution_count": 7,
     "metadata": {},
     "output_type": "execute_result"
    }
   ],
   "source": [
    "df_example.head(2)"
   ]
  },
  {
   "cell_type": "markdown",
   "id": "b1073422",
   "metadata": {
    "slideshow": {
     "slide_type": "slide"
    }
   },
   "source": [
    "### Step 1: Calculate desired test statistic\n",
    "\n",
    "- For simplicity, let's compare the *difference in mean `Reaction Time` across samples.  "
   ]
  },
  {
   "cell_type": "code",
   "execution_count": 8,
   "id": "a56326c1",
   "metadata": {
    "slideshow": {
     "slide_type": "-"
    }
   },
   "outputs": [
    {
     "data": {
      "text/plain": [
       "36.21713709546259"
      ]
     },
     "execution_count": 8,
     "metadata": {},
     "output_type": "execute_result"
    }
   ],
   "source": [
    "means = df_example.groupby(\"Length\").mean('Reaction Time')\n",
    "true_diff = means['Reaction Time']['Long'] - means['Reaction Time']['Short']\n",
    "true_diff"
   ]
  },
  {
   "cell_type": "markdown",
   "id": "07cbdfe7",
   "metadata": {
    "slideshow": {
     "slide_type": "slide"
    }
   },
   "source": [
    "### Step 2: Shuffle dataset labels\n",
    "\n",
    "- We can use `np.random.permutation` to shuffle an `np.array`. "
   ]
  },
  {
   "cell_type": "code",
   "execution_count": 9,
   "id": "944ca6be",
   "metadata": {},
   "outputs": [
    {
     "data": {
      "text/html": [
       "<div>\n",
       "<style scoped>\n",
       "    .dataframe tbody tr th:only-of-type {\n",
       "        vertical-align: middle;\n",
       "    }\n",
       "\n",
       "    .dataframe tbody tr th {\n",
       "        vertical-align: top;\n",
       "    }\n",
       "\n",
       "    .dataframe thead th {\n",
       "        text-align: right;\n",
       "    }\n",
       "</style>\n",
       "<table border=\"1\" class=\"dataframe\">\n",
       "  <thead>\n",
       "    <tr style=\"text-align: right;\">\n",
       "      <th></th>\n",
       "      <th>Length</th>\n",
       "      <th>Reaction Time</th>\n",
       "      <th>Shuffled_length</th>\n",
       "    </tr>\n",
       "  </thead>\n",
       "  <tbody>\n",
       "    <tr>\n",
       "      <th>0</th>\n",
       "      <td>Short</td>\n",
       "      <td>216.800352</td>\n",
       "      <td>Long</td>\n",
       "    </tr>\n",
       "    <tr>\n",
       "      <th>1</th>\n",
       "      <td>Short</td>\n",
       "      <td>244.284309</td>\n",
       "      <td>Long</td>\n",
       "    </tr>\n",
       "    <tr>\n",
       "      <th>2</th>\n",
       "      <td>Short</td>\n",
       "      <td>246.485614</td>\n",
       "      <td>Long</td>\n",
       "    </tr>\n",
       "  </tbody>\n",
       "</table>\n",
       "</div>"
      ],
      "text/plain": [
       "  Length  Reaction Time Shuffled_length\n",
       "0  Short     216.800352            Long\n",
       "1  Short     244.284309            Long\n",
       "2  Short     246.485614            Long"
      ]
     },
     "execution_count": 9,
     "metadata": {},
     "output_type": "execute_result"
    }
   ],
   "source": [
    "df_example['Shuffled_length'] = np.random.permutation(df_example['Length'].values)\n",
    "df_example.head(3)"
   ]
  },
  {
   "cell_type": "markdown",
   "id": "c7a6bb5c",
   "metadata": {
    "slideshow": {
     "slide_type": "slide"
    }
   },
   "source": [
    "### Step 3: Calculate test statistic for shuffled distribution.\n",
    "\n",
    "- Now, let's calculate the *mean difference* for these new, shuffled values."
   ]
  },
  {
   "cell_type": "code",
   "execution_count": 10,
   "id": "93adfffa",
   "metadata": {
    "slideshow": {
     "slide_type": "-"
    }
   },
   "outputs": [
    {
     "data": {
      "text/plain": [
       "15.949396008421559"
      ]
     },
     "execution_count": 10,
     "metadata": {},
     "output_type": "execute_result"
    }
   ],
   "source": [
    "means = df_example[['Shuffled_length', 'Reaction Time']].groupby(\"Shuffled_length\").mean()\n",
    "random_diff = means['Reaction Time']['Long'] - means['Reaction Time']['Short']\n",
    "random_diff"
   ]
  },
  {
   "cell_type": "markdown",
   "id": "282b726c",
   "metadata": {
    "slideshow": {
     "slide_type": "slide"
    }
   },
   "source": [
    "### Step 4: Repeat steps 2-3 many times\n",
    "\n",
    "- Now, let's repeat steps 2-3 1000x to create our **null distribution**."
   ]
  },
  {
   "cell_type": "code",
   "execution_count": 11,
   "id": "bcdca18d",
   "metadata": {
    "slideshow": {
     "slide_type": "-"
    }
   },
   "outputs": [],
   "source": [
    "null_dist = []\n",
    "num_permutations = 1000\n",
    "for i in range(0, num_permutations):\n",
    "    df_example['Shuffled_length'] = np.random.permutation(df_example['Length'].values)\n",
    "    means = df_example[['Shuffled_length', 'Reaction Time']].groupby(\"Shuffled_length\").mean()\n",
    "    random_diff = means['Reaction Time']['Long'] - means['Reaction Time']['Short']\n",
    "    null_dist.append(random_diff)"
   ]
  },
  {
   "cell_type": "code",
   "execution_count": 12,
   "id": "0bdc6356",
   "metadata": {
    "slideshow": {
     "slide_type": "-"
    }
   },
   "outputs": [
    {
     "data": {
      "text/plain": [
       "1000"
      ]
     },
     "execution_count": 12,
     "metadata": {},
     "output_type": "execute_result"
    }
   ],
   "source": [
    "len(null_dist)"
   ]
  },
  {
   "cell_type": "code",
   "execution_count": 19,
   "id": "8afef211",
   "metadata": {},
   "outputs": [
    {
     "data": {
      "text/plain": [
       "<matplotlib.lines.Line2D at 0x147f4e770>"
      ]
     },
     "execution_count": 19,
     "metadata": {},
     "output_type": "execute_result"
    },
    {
     "data": {
      "image/png": "[encoded data removed]",
      "text/plain": [
       "<Figure size 500x500 with 1 Axes>"
      ]
     },
     "metadata": {},
     "output_type": "display_data"
    }
   ],
   "source": [
    "sns.displot(null_dist, kind='kde', fill=True)\n",
    "plt.axvline(true_diff, color='red')"
   ]
  },
  {
   "cell_type": "markdown",
   "id": "3a01eaca",
   "metadata": {
    "slideshow": {
     "slide_type": "slide"
    }
   },
   "source": [
    "### Step 5: Compare our actual test statistic to the null distribution"
   ]
  },
  {
   "cell_type": "code",
   "execution_count": 90,
   "id": "10fe1517",
   "metadata": {
    "slideshow": {
     "slide_type": "-"
    }
   },
   "outputs": [
    {
     "data": {
      "text/plain": [
       "<matplotlib.lines.Line2D at 0x29a2ad6d0>"
      ]
     },
     "execution_count": 90,
     "metadata": {},
     "output_type": "execute_result"
    },
    {
     "data": {
      "image/png": "[encoded data removed]",
      "text/plain": [
       "<Figure size 640x480 with 1 Axes>"
      ]
     },
     "metadata": {},
     "output_type": "display_data"
    }
   ],
   "source": [
    "sns.histplot(x = null_dist, alpha = .6)\n",
    "plt.axvline(x = true_diff, linestyle = \"dotted\")"
   ]
  },
  {
   "cell_type": "markdown",
   "id": "68c022f2",
   "metadata": {
    "slideshow": {
     "slide_type": "slide"
    }
   },
   "source": [
    "### Step 6: Calculate a $p$-value\n",
    "\n",
    "- What *proportion* of our null distribution values is at least as large as our test statistic?  \n",
    "- Here, zero percent!"
   ]
  },
  {
   "cell_type": "code",
   "execution_count": 20,
   "id": "c94b13fe",
   "metadata": {
    "slideshow": {
     "slide_type": "-"
    }
   },
   "outputs": [
    {
     "data": {
      "text/plain": [
       "0.0"
      ]
     },
     "execution_count": 20,
     "metadata": {},
     "output_type": "execute_result"
    }
   ],
   "source": [
    "count = [i for i in null_dist if i > true_diff]\n",
    "len(count) / len(null_dist)"
   ]
  },
  {
   "cell_type": "markdown",
   "id": "c350cbeb",
   "metadata": {
    "slideshow": {
     "slide_type": "slide"
    }
   },
   "source": [
    "### Recap: permutation tests\n",
    "\n",
    "- We compared the **actual difference in means** to the distribution of differences obtained if labels were **randomly shuffled**.  \n",
    "  - This is called a *permutation test*.  \n",
    "- Key **advantages**:\n",
    "  - We could use any test statistic instead of `mean`, e.g., `median`.  \n",
    "  - We don't make strong assumptions about shape or variance of our samples.  \n",
    "- We can also apply this to other questions, like **regression coefficients**. Very flexible approach!"
   ]
  },
  {
   "cell_type": "markdown",
   "id": "d47505fa",
   "metadata": {
    "slideshow": {
     "slide_type": "slide"
    }
   },
   "source": [
    "## Lecture wrap-up\n",
    "\n",
    "- Much of statistics is about asking whether some *numerical difference* is \"real\".  \n",
    "   - This is critical for many questions in CSS.  \n",
    "- One approach to this is to run a traditional *hypothesis test*, like a t-test.\n",
    "   - These approaches tend to have **strong assumptions**.\n",
    "- A more flexible approach is to run a **permutation test**.\n",
    "   - Relies on structure of data to compare real test statistic to test statistics from *permutations*.\n",
    "   - Fewer assumptions, wider applicability.\n",
    "- Extremely powerful approach: this is just the start!"
   ]
  },
  {
   "cell_type": "markdown",
   "id": "762fa4e9",
   "metadata": {},
   "source": []
  }
 ],
 "metadata": {
  "celltoolbar": "Slideshow",
  "kernelspec": {
   "display_name": "Python 3 (ipykernel)",
   "language": "python",
   "name": "python3"
  },
  "language_info": {
   "codemirror_mode": {
    "name": "ipython",
    "version": 3
   },
   "file_extension": ".py",
   "mimetype": "text/x-python",
   "name": "python",
   "nbconvert_exporter": "python",
   "pygments_lexer": "ipython3",
   "version": "3.10.5"
  }
 },
 "nbformat": 4,
 "nbformat_minor": 5
}
