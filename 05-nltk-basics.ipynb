{
 "cells": [
  {
   "cell_type": "markdown",
   "id": "2fd4307c",
   "metadata": {
    "slideshow": {
     "slide_type": "slide"
    }
   },
   "source": [
    "# Introduction to `nltk` in Python"
   ]
  },
  {
   "cell_type": "markdown",
   "id": "4a3a695b",
   "metadata": {
    "slideshow": {
     "slide_type": "slide"
    }
   },
   "source": [
    "## Lecture goals\n",
    "\n",
    "- Introducing the `nltk` library in Python.  \n",
    "- Basic text processing with `nltk`.  \n",
    "   - Tokenization. \n",
    "   - Stemming and lemmatizing.  \n",
    "   - Part-of-speech tagging. \n",
    "   - Processing web text."
   ]
  },
  {
   "cell_type": "markdown",
   "id": "a3e16632",
   "metadata": {
    "slideshow": {
     "slide_type": "slide"
    }
   },
   "source": [
    "## The `nltk` library\n",
    "\n",
    "> The **`nltk`** (\"Natural Language Toolkit\") library contains a set of functions, classes, and *corpora* (databases) to help process and analyze language data."
   ]
  },
  {
   "cell_type": "code",
   "execution_count": 3,
   "id": "7c3894d4",
   "metadata": {
    "slideshow": {
     "slide_type": "-"
    }
   },
   "outputs": [],
   "source": [
    "### usually we'll import more specific functions or clasess\n",
    "import nltk"
   ]
  },
  {
   "cell_type": "markdown",
   "id": "2fbbfc63",
   "metadata": {
    "slideshow": {
     "slide_type": "slide"
    }
   },
   "source": [
    "### `nltk`: a brief history\n",
    "\n",
    "- [`nltk`](https://en.wikipedia.org/wiki/Natural_Language_Toolkit) was created by Steven Bird and Edward Loper. \n",
    "- Has a *ton* of useful functions.  \n",
    "  - Built-in **corpora** of multiple genres and languages. \n",
    "  - Can **pre-process** (e.g., tokenize) text.\n",
    "  - Can **extract** information from text.  \n",
    "  - Includes basic **machine learning** applications. \n",
    "- Used by *linguists*, *NLP practitioners*, and more."
   ]
  },
  {
   "cell_type": "markdown",
   "id": "5f6badc3",
   "metadata": {
    "slideshow": {
     "slide_type": "slide"
    }
   },
   "source": [
    "## Tokenization\n",
    "\n",
    "> `nltk` has a number of **tokenization** functions built in, including for tokenizing *sentences* (`sent_tokenize`) and indiviudal words (`word_tokenize`).\n",
    "\n",
    "`nltk` has some [additional documentation](https://www.nltk.org/api/nltk.tokenize.html?highlight=tokenize) here."
   ]
  },
  {
   "cell_type": "markdown",
   "id": "39bcf2f5",
   "metadata": {
    "slideshow": {
     "slide_type": "slide"
    }
   },
   "source": [
    "### Refresher: what is tokenization?\n",
    "\n",
    "> **Tokenization** is the process of splitting a chunk of text into individuals elements or \"tokens\" (often *words*). \n",
    "\n",
    "- Tokenization is critical for *pre-processing* text.  \n",
    "- Before counting, calculating sentiment, etc., must identify the tokens!\n",
    "- It's also surprisingly challenging to do."
   ]
  },
  {
   "cell_type": "markdown",
   "id": "71c6d8cd",
   "metadata": {
    "slideshow": {
     "slide_type": "slide"
    }
   },
   "source": [
    "### Tokenizing *words*\n",
    "\n",
    "- Before, we used `split` to tokenize a string into words.  \n",
    "- `nltk` has a function called `word_tokenize` that does this for us."
   ]
  },
  {
   "cell_type": "code",
   "execution_count": 7,
   "id": "423c54fe",
   "metadata": {},
   "outputs": [
    {
     "name": "stderr",
     "output_type": "stream",
     "text": [
      "[nltk_data] Downloading package punkt to\n",
      "[nltk_data]     /Users/olimpiacarrioli/nltk_data...\n",
      "[nltk_data]   Unzipping tokenizers/punkt.zip.\n"
     ]
    },
    {
     "data": {
      "text/plain": [
       "True"
      ]
     },
     "execution_count": 7,
     "metadata": {},
     "output_type": "execute_result"
    }
   ],
   "source": [
    "import ssl\n",
    "ssl._create_default_https_context = ssl._create_unverified_context\n",
    "\n",
    "import nltk\n",
    "nltk.download('punkt')"
   ]
  },
  {
   "cell_type": "code",
   "execution_count": 8,
   "id": "f5ee223f",
   "metadata": {
    "slideshow": {
     "slide_type": "-"
    }
   },
   "outputs": [
    {
     "name": "stderr",
     "output_type": "stream",
     "text": [
      "[nltk_data] Downloading package punkt to\n",
      "[nltk_data]     /Users/olimpiacarrioli/nltk_data...\n",
      "[nltk_data]   Package punkt is already up-to-date!\n"
     ]
    }
   ],
   "source": [
    "# Pre-processing step\n",
    "import nltk\n",
    "nltk.download('punkt') ### May need to install/download this\n",
    "\n",
    "### import word_tokenize\n",
    "from nltk import word_tokenize"
   ]
  },
  {
   "cell_type": "markdown",
   "id": "e127a94c",
   "metadata": {
    "slideshow": {
     "slide_type": "slide"
    }
   },
   "source": [
    "#### `word_tokenize` in action (1)\n",
    "\n",
    "Here, we see that it works well on our example sentence from last time."
   ]
  },
  {
   "cell_type": "code",
   "execution_count": 7,
   "id": "1df00044",
   "metadata": {
    "slideshow": {
     "slide_type": "-"
    }
   },
   "outputs": [
    {
     "data": {
      "text/plain": [
       "['The', 'quick', 'brown', 'fox', 'jumped', 'over', 'the', 'lazy', 'dog']"
      ]
     },
     "execution_count": 7,
     "metadata": {},
     "output_type": "execute_result"
    }
   ],
   "source": [
    "example_str = \"The quick brown fox jumped over the lazy dog\"\n",
    "word_tokenize(example_str)"
   ]
  },
  {
   "cell_type": "markdown",
   "id": "b9154d60",
   "metadata": {
    "slideshow": {
     "slide_type": "slide"
    }
   },
   "source": [
    "#### `word_tokenize` in action (2)\n",
    "\n",
    "It also does a better job with the Declaration of Independence, which `split` didn't work so well with."
   ]
  },
  {
   "cell_type": "code",
   "execution_count": 11,
   "id": "3927d888",
   "metadata": {
    "slideshow": {
     "slide_type": "-"
    }
   },
   "outputs": [],
   "source": [
    "### Declaration of Independence\n",
    "with open(\"data/text/declaration.txt\", \"r\") as f:\n",
    "    contents = f.read()\n",
    "\n",
    "tokens = word_tokenize(contents)"
   ]
  },
  {
   "cell_type": "code",
   "execution_count": 13,
   "id": "e9084a5b",
   "metadata": {
    "slideshow": {
     "slide_type": "-"
    }
   },
   "outputs": [
    {
     "data": {
      "text/plain": [
       "['In', 'Congress', ',', 'July', '4', ',']"
      ]
     },
     "execution_count": 13,
     "metadata": {},
     "output_type": "execute_result"
    }
   ],
   "source": [
    "tokens[0:6]"
   ]
  },
  {
   "cell_type": "markdown",
   "id": "7ddb3c99",
   "metadata": {
    "slideshow": {
     "slide_type": "slide"
    }
   },
   "source": [
    "#### `word_tokenize` in action (3)\n",
    "\n",
    "It also deals pretty well with newline (`\\n`) characters and other punctuation."
   ]
  },
  {
   "cell_type": "code",
   "execution_count": 24,
   "id": "e20e2ced",
   "metadata": {
    "slideshow": {
     "slide_type": "-"
    }
   },
   "outputs": [],
   "source": [
    "s = '''Good muffins cost $3.88\\nin New York.  Please buy me\n",
    "... two of them.\\n\\nThanks.'''"
   ]
  },
  {
   "cell_type": "code",
   "execution_count": 16,
   "id": "cc996a78",
   "metadata": {
    "slideshow": {
     "slide_type": "-"
    }
   },
   "outputs": [
    {
     "data": {
      "text/plain": [
       "['Good',\n",
       " 'muffins',\n",
       " 'cost',\n",
       " '$',\n",
       " '3.88',\n",
       " 'in',\n",
       " 'New',\n",
       " 'York',\n",
       " '.',\n",
       " 'Please',\n",
       " 'buy',\n",
       " 'me',\n",
       " 'two',\n",
       " 'of',\n",
       " 'them',\n",
       " '.',\n",
       " 'Thanks',\n",
       " '.']"
      ]
     },
     "execution_count": 16,
     "metadata": {},
     "output_type": "execute_result"
    }
   ],
   "source": [
    "word_tokenize(s)"
   ]
  },
  {
   "cell_type": "markdown",
   "id": "5446f39a",
   "metadata": {
    "slideshow": {
     "slide_type": "slide"
    }
   },
   "source": [
    "#### How does it work?\n",
    "\n",
    "Under the hood, `word_tokenize` uses the [`TreebankWordTokenizer`](https://www.nltk.org/api/nltk.tokenize.TreebankWordTokenizer.html#nltk.tokenize.TreebankWordTokenizer), which implements the following steps:\n",
    "\n",
    "- Split standard contractions (`\"don't\"`). \n",
    "- Treat most punctuation characters as separate tokens\n",
    "- Split off commas and single quotes, when followed by whitespace.\n",
    "- Separate periods that appear at the end of line."
   ]
  },
  {
   "cell_type": "markdown",
   "id": "d32fda83",
   "metadata": {
    "slideshow": {
     "slide_type": "slide"
    }
   },
   "source": [
    "#### Tokenization in other languages\n",
    "\n",
    "- `nltk.word_tokenize` supports some other languages besides English, which can be entered using the `language` parameter."
   ]
  },
  {
   "cell_type": "code",
   "execution_count": 22,
   "id": "39134c0d",
   "metadata": {
    "slideshow": {
     "slide_type": "-"
    }
   },
   "outputs": [],
   "source": [
    "spanish_example = \"Después del almuerzo, Diego y Carlos fueron a la casa. Diego le dio las llaves a Carlos.\""
   ]
  },
  {
   "cell_type": "code",
   "execution_count": 23,
   "id": "f7a194fe",
   "metadata": {
    "slideshow": {
     "slide_type": "-"
    }
   },
   "outputs": [
    {
     "data": {
      "text/plain": [
       "['Después', 'del', 'almuerzo', ',', 'Diego']"
      ]
     },
     "execution_count": 23,
     "metadata": {},
     "output_type": "execute_result"
    }
   ],
   "source": [
    "nltk.word_tokenize(spanish_example, language = 'spanish')[0:5]"
   ]
  },
  {
   "cell_type": "markdown",
   "id": "d3811d21",
   "metadata": {
    "slideshow": {
     "slide_type": "slide"
    }
   },
   "source": [
    "### Tokenizing *sentences*\n",
    "\n",
    "- Often, we are processing more than one sentence at a time.  \n",
    "- Before we tokenize words, it is useful to tokenize *sentences*.\n",
    "- `nltk` has a function called `sent_tokenize` that does this for us."
   ]
  },
  {
   "cell_type": "code",
   "execution_count": 21,
   "id": "92d7267a",
   "metadata": {
    "slideshow": {
     "slide_type": "-"
    }
   },
   "outputs": [],
   "source": [
    "from nltk import sent_tokenize"
   ]
  },
  {
   "cell_type": "markdown",
   "id": "21feb941",
   "metadata": {
    "slideshow": {
     "slide_type": "slide"
    }
   },
   "source": [
    "### Tokenizing *sentences*\n",
    "\n",
    "- Often, we are processing more than one sentence at a time.  \n",
    "- Before we tokenize words, it is useful to tokenize *sentences*.\n",
    "- `nltk` has a function called `sent_tokenize` that does this for us."
   ]
  },
  {
   "cell_type": "code",
   "execution_count": 27,
   "id": "16d0428e",
   "metadata": {
    "slideshow": {
     "slide_type": "-"
    }
   },
   "outputs": [
    {
     "data": {
      "text/plain": [
       "['I visited my friend in Seattle.',\n",
       " 'We went to the park and then downtown.',\n",
       " 'It was a fun time.']"
      ]
     },
     "execution_count": 27,
     "metadata": {},
     "output_type": "execute_result"
    }
   ],
   "source": [
    "sentences = \"I visited my friend in Seattle. We went to the park and then downtown. It was a fun time.\"\n",
    "sent_tokenize(sentences)"
   ]
  },
  {
   "cell_type": "markdown",
   "id": "4d6f6d7f",
   "metadata": {
    "slideshow": {
     "slide_type": "slide"
    }
   },
   "source": [
    "## Stemming and lemmatizing\n",
    "\n",
    "> **Stemming** or **lemmatizing** a word means removing any *inflectional morphology* (e.g., plural markers) to reveal only the \"root\".\n",
    "\n",
    "- Very useful if you only have *root words* in a vocabulary set.  \n",
    "   - \"loved\" --> \"love\"\n",
    "   - \"running\" --> \"run\"\n",
    "- Stemming ≠ lemmatizing (the latter is a bit harder)."
   ]
  },
  {
   "cell_type": "markdown",
   "id": "3cf20b32",
   "metadata": {
    "slideshow": {
     "slide_type": "slide"
    }
   },
   "source": [
    "### Stemming\n",
    "\n",
    "> **Stemming** is a process that removes common *affixes* from a word.\n",
    "\n",
    "- English examples: plural (\"-s\"), past tense (\"-ed\"), etc.  \n",
    "- Simple approach:\n",
    "   - Build list of common suffixes.  \n",
    "   - Identify these substrings in words.  \n",
    "   - Remove those substrings."
   ]
  },
  {
   "cell_type": "markdown",
   "id": "03fe7c99",
   "metadata": {
    "slideshow": {
     "slide_type": "slide"
    }
   },
   "source": [
    "#### Stemming with `nltk`\n",
    "\n",
    "- The `PorterStemmer` implements the [**Porter Stemming Algorithm**](https://tartarus.org/martin/PorterStemmer/#:~:text=The%20Porter%20stemming%20algorithm%20(or,History).  \n",
    "- Imperfect process!"
   ]
  },
  {
   "cell_type": "code",
   "execution_count": 1,
   "id": "259fc6f0",
   "metadata": {
    "slideshow": {
     "slide_type": "-"
    }
   },
   "outputs": [],
   "source": [
    "from nltk.stem.porter import PorterStemmer\n",
    "ps = PorterStemmer()"
   ]
  },
  {
   "cell_type": "code",
   "execution_count": 2,
   "id": "bf0e3d8f",
   "metadata": {
    "slideshow": {
     "slide_type": "-"
    }
   },
   "outputs": [
    {
     "data": {
      "text/plain": [
       "'dog'"
      ]
     },
     "execution_count": 2,
     "metadata": {},
     "output_type": "execute_result"
    }
   ],
   "source": [
    "ps.stem(\"dogs\") ### nice!"
   ]
  },
  {
   "cell_type": "code",
   "execution_count": 3,
   "id": "e2486855",
   "metadata": {
    "slideshow": {
     "slide_type": "-"
    }
   },
   "outputs": [
    {
     "data": {
      "text/plain": [
       "'hous'"
      ]
     },
     "execution_count": 3,
     "metadata": {},
     "output_type": "execute_result"
    }
   ],
   "source": [
    "ps.stem(\"houses\") ### hmm"
   ]
  },
  {
   "cell_type": "code",
   "execution_count": 4,
   "id": "b81e0e65",
   "metadata": {
    "slideshow": {
     "slide_type": "-"
    }
   },
   "outputs": [
    {
     "data": {
      "text/plain": [
       "'fli'"
      ]
     },
     "execution_count": 4,
     "metadata": {},
     "output_type": "execute_result"
    }
   ],
   "source": [
    "ps.stem(\"flies\") ### not so good"
   ]
  },
  {
   "cell_type": "markdown",
   "id": "0109e553",
   "metadata": {
    "slideshow": {
     "slide_type": "slide"
    }
   },
   "source": [
    "#### Stemming in action\n",
    "\n",
    "- Typically, you would first use `word_tokenize`, then **stem** those words. \n",
    "- E.g., useful for sentiment analysis."
   ]
  },
  {
   "cell_type": "code",
   "execution_count": 9,
   "id": "7c1aaa16",
   "metadata": {
    "slideshow": {
     "slide_type": "-"
    }
   },
   "outputs": [
    {
     "data": {
      "text/plain": [
       "['I', 'loved', 'that', 'film']"
      ]
     },
     "execution_count": 9,
     "metadata": {},
     "output_type": "execute_result"
    }
   ],
   "source": [
    "sentence = \"I loved that film\"\n",
    "words = word_tokenize(sentence)\n",
    "words"
   ]
  },
  {
   "cell_type": "code",
   "execution_count": 10,
   "id": "1771a0b4",
   "metadata": {
    "slideshow": {
     "slide_type": "-"
    }
   },
   "outputs": [
    {
     "data": {
      "text/plain": [
       "['i', 'love', 'that', 'film']"
      ]
     },
     "execution_count": 10,
     "metadata": {},
     "output_type": "execute_result"
    }
   ],
   "source": [
    "stemmed_words = [ps.stem(w) for w in words]\n",
    "stemmed_words"
   ]
  },
  {
   "cell_type": "markdown",
   "id": "8ab854ba",
   "metadata": {
    "slideshow": {
     "slide_type": "slide"
    }
   },
   "source": [
    "#### Check-in\n",
    "\n",
    "Try to come up with some examples where `ps.stem` works and where it doesn't work. What do you think about its performance?"
   ]
  },
  {
   "cell_type": "code",
   "execution_count": 11,
   "id": "7f1caa37",
   "metadata": {
    "slideshow": {
     "slide_type": "-"
    }
   },
   "outputs": [],
   "source": [
    "### Your code here"
   ]
  },
  {
   "cell_type": "markdown",
   "id": "b8af5652",
   "metadata": {
    "slideshow": {
     "slide_type": "slide"
    }
   },
   "source": [
    "#### A qualitative evaluation\n",
    "\n",
    "`ps.stem` works for prototypical examples, but also fails often."
   ]
  },
  {
   "cell_type": "code",
   "execution_count": 12,
   "id": "964841d5",
   "metadata": {
    "slideshow": {
     "slide_type": "-"
    }
   },
   "outputs": [
    {
     "data": {
      "text/plain": [
       "'movi'"
      ]
     },
     "execution_count": 12,
     "metadata": {},
     "output_type": "execute_result"
    }
   ],
   "source": [
    "ps.stem(\"movies\")"
   ]
  },
  {
   "cell_type": "code",
   "execution_count": 13,
   "id": "5abe5dae",
   "metadata": {
    "slideshow": {
     "slide_type": "-"
    }
   },
   "outputs": [
    {
     "data": {
      "text/plain": [
       "'bottl'"
      ]
     },
     "execution_count": 13,
     "metadata": {},
     "output_type": "execute_result"
    }
   ],
   "source": [
    "ps.stem(\"bottles\")"
   ]
  },
  {
   "cell_type": "markdown",
   "id": "e9d050bc",
   "metadata": {
    "slideshow": {
     "slide_type": "slide"
    }
   },
   "source": [
    "### Lemmatizing\n",
    "\n",
    "> **Lemmatizing** is a process for identifying the *root* or *lemma* of a word, which ensures that the output is indeed a root form.  \n",
    "\n",
    "- Stemming can be implemented with some simple rules (e.g., remove \"-s\").  \n",
    "  - Fast, but error-prone.\n",
    "- Lemmatizing requires a *list* of all the valid lemmas of a language. \n",
    "  - Slower and harder to build, but more accurate."
   ]
  },
  {
   "cell_type": "markdown",
   "id": "52433786",
   "metadata": {
    "slideshow": {
     "slide_type": "slide"
    }
   },
   "source": [
    "#### Using `WordNetLemmatizer`\n",
    "\n",
    "- The `WordNetLemmatizer` uses the [**WordNet database**](https://www.nltk.org/howto/wordnet.html) as its dictionary of *lemmas*.  \n",
    "- Unlike stemming, lemmatizing should return a valid word."
   ]
  },
  {
   "cell_type": "code",
   "execution_count": 16,
   "id": "b552dafa",
   "metadata": {},
   "outputs": [
    {
     "name": "stderr",
     "output_type": "stream",
     "text": [
      "[nltk_data] Downloading package wordnet to\n",
      "[nltk_data]     /Users/olimpiacarrioli/nltk_data...\n"
     ]
    },
    {
     "data": {
      "text/plain": [
       "True"
      ]
     },
     "execution_count": 16,
     "metadata": {},
     "output_type": "execute_result"
    }
   ],
   "source": [
    "nltk.download('wordnet')"
   ]
  },
  {
   "cell_type": "code",
   "execution_count": 17,
   "id": "03ce9ab1",
   "metadata": {
    "slideshow": {
     "slide_type": "-"
    }
   },
   "outputs": [],
   "source": [
    "from nltk.stem import WordNetLemmatizer\n",
    "lemmatizer = WordNetLemmatizer()"
   ]
  },
  {
   "cell_type": "code",
   "execution_count": 18,
   "id": "44afe22d",
   "metadata": {
    "slideshow": {
     "slide_type": "-"
    }
   },
   "outputs": [
    {
     "data": {
      "text/plain": [
       "'movie'"
      ]
     },
     "execution_count": 18,
     "metadata": {},
     "output_type": "execute_result"
    }
   ],
   "source": [
    "lemmatizer.lemmatize(\"movies\")"
   ]
  },
  {
   "cell_type": "code",
   "execution_count": 66,
   "id": "46159461",
   "metadata": {
    "slideshow": {
     "slide_type": "-"
    }
   },
   "outputs": [
    {
     "data": {
      "text/plain": [
       "'bottle'"
      ]
     },
     "execution_count": 66,
     "metadata": {},
     "output_type": "execute_result"
    }
   ],
   "source": [
    "lemmatizer.lemmatize(\"bottles\")"
   ]
  },
  {
   "cell_type": "markdown",
   "id": "37a5fd47",
   "metadata": {
    "slideshow": {
     "slide_type": "slide"
    }
   },
   "source": [
    "#### Check-in\n",
    "\n",
    "Try to come up with some more examples that `WordNetLemmatizer` does well on, but `PorterStemmer` does not."
   ]
  },
  {
   "cell_type": "code",
   "execution_count": 67,
   "id": "5aaf377a",
   "metadata": {
    "slideshow": {
     "slide_type": "-"
    }
   },
   "outputs": [],
   "source": [
    "### Your code here"
   ]
  },
  {
   "cell_type": "markdown",
   "id": "722517f9",
   "metadata": {
    "slideshow": {
     "slide_type": "slide"
    }
   },
   "source": [
    "#### More qualitative evaluation"
   ]
  },
  {
   "cell_type": "code",
   "execution_count": 79,
   "id": "af4f42cf",
   "metadata": {
    "slideshow": {
     "slide_type": "-"
    }
   },
   "outputs": [
    {
     "name": "stdout",
     "output_type": "stream",
     "text": [
      "battl\n",
      "battle\n"
     ]
    }
   ],
   "source": [
    "print(ps.stem(\"battles\"))\n",
    "print(lemmatizer.lemmatize(\"battles\"))"
   ]
  },
  {
   "cell_type": "markdown",
   "id": "5707e606",
   "metadata": {
    "slideshow": {
     "slide_type": "slide"
    }
   },
   "source": [
    "#### Specifying the `pos`\n",
    "\n",
    "- By specifying the `pos` tag, you can improve the accuracy of the lemmatization.\n",
    "- Noun (\"n\"), Verb (\"v\"), and adjective (\"a\")."
   ]
  },
  {
   "cell_type": "code",
   "execution_count": 92,
   "id": "438af17e",
   "metadata": {
    "slideshow": {
     "slide_type": "-"
    }
   },
   "outputs": [
    {
     "name": "stdout",
     "output_type": "stream",
     "text": [
      "running\n",
      "better\n"
     ]
    }
   ],
   "source": [
    "### Without POS\n",
    "print(lemmatizer.lemmatize(\"running\"))  # Expected verb lemma \"run\", but defaults to noun\n",
    "print(lemmatizer.lemmatize(\"better\"))   # Expected adjective lemma \"good\""
   ]
  },
  {
   "cell_type": "code",
   "execution_count": 93,
   "id": "bf68f05e",
   "metadata": {
    "slideshow": {
     "slide_type": "-"
    }
   },
   "outputs": [
    {
     "name": "stdout",
     "output_type": "stream",
     "text": [
      "run\n",
      "good\n"
     ]
    }
   ],
   "source": [
    "### Without POS\n",
    "print(lemmatizer.lemmatize(\"running\", pos = \"v\"))  # Expected verb lemma \"run\", but defaults to noun\n",
    "print(lemmatizer.lemmatize(\"better\", pos = \"a\"))   # Expected adjective lemma \"good\""
   ]
  },
  {
   "cell_type": "markdown",
   "id": "defaccdc",
   "metadata": {
    "slideshow": {
     "slide_type": "slide"
    }
   },
   "source": [
    "#### But how do you figure out part of speech?"
   ]
  },
  {
   "cell_type": "markdown",
   "id": "8087d647",
   "metadata": {
    "slideshow": {
     "slide_type": "slide"
    }
   },
   "source": [
    "## Part-of-speech tagging\n",
    "\n",
    "> **Part-of-speech** tagging is the process of identifying the part of speech of different words in a sentence (E.g., \"verb\", etc.).\n",
    "\n",
    "- The same *wordform* has different meanings depending on its **usage**.  \n",
    "- Can also be lemmatized differently (\"in the running\" vs. \"she is running\")."
   ]
  },
  {
   "cell_type": "code",
   "execution_count": 100,
   "id": "98382461",
   "metadata": {
    "slideshow": {
     "slide_type": "-"
    }
   },
   "outputs": [],
   "source": [
    "from nltk import pos_tag"
   ]
  },
  {
   "cell_type": "markdown",
   "id": "79bdef25",
   "metadata": {
    "slideshow": {
     "slide_type": "slide"
    }
   },
   "source": [
    "### `nltk.pos_tag`\n",
    "\n",
    "- Given a list of tokens...\n",
    "- ...`pos_tag` returns *tuples* of each word and its POS."
   ]
  },
  {
   "cell_type": "code",
   "execution_count": 101,
   "id": "d64a1c76",
   "metadata": {
    "slideshow": {
     "slide_type": "-"
    }
   },
   "outputs": [],
   "source": [
    "s1 = \"She is in the running for office.\"\n",
    "s2 = \"She is running for office.\""
   ]
  },
  {
   "cell_type": "code",
   "execution_count": 104,
   "id": "6b36804b",
   "metadata": {
    "slideshow": {
     "slide_type": "-"
    }
   },
   "outputs": [
    {
     "data": {
      "text/plain": [
       "[('She', 'PRP'),\n",
       " ('is', 'VBZ'),\n",
       " ('in', 'IN'),\n",
       " ('the', 'DT'),\n",
       " ('running', 'NN'),\n",
       " ('for', 'IN'),\n",
       " ('office', 'NN'),\n",
       " ('.', '.')]"
      ]
     },
     "execution_count": 104,
     "metadata": {},
     "output_type": "execute_result"
    }
   ],
   "source": [
    "### First sentence\n",
    "pos_tag(word_tokenize(s1))"
   ]
  },
  {
   "cell_type": "markdown",
   "id": "4576b49a",
   "metadata": {
    "slideshow": {
     "slide_type": "slide"
    }
   },
   "source": [
    "#### Check-in\n",
    "\n",
    "Use `pos_tag` on the second sentence. What do you notice about the tag for \"running\"?"
   ]
  },
  {
   "cell_type": "code",
   "execution_count": 105,
   "id": "0c1b2cf1",
   "metadata": {
    "slideshow": {
     "slide_type": "-"
    }
   },
   "outputs": [],
   "source": [
    "### Your code here"
   ]
  },
  {
   "cell_type": "markdown",
   "id": "4627f6d3",
   "metadata": {
    "slideshow": {
     "slide_type": "slide"
    }
   },
   "source": [
    "#### A different POS\n",
    "\n",
    "Now, \"running\" is tagged as \"VBG\" (a \"gerund verb\")."
   ]
  },
  {
   "cell_type": "code",
   "execution_count": 106,
   "id": "766d6a18",
   "metadata": {
    "slideshow": {
     "slide_type": "-"
    }
   },
   "outputs": [
    {
     "data": {
      "text/plain": [
       "[('She', 'PRP'),\n",
       " ('is', 'VBZ'),\n",
       " ('running', 'VBG'),\n",
       " ('for', 'IN'),\n",
       " ('office', 'NN'),\n",
       " ('.', '.')]"
      ]
     },
     "execution_count": 106,
     "metadata": {},
     "output_type": "execute_result"
    }
   ],
   "source": [
    "pos_tag(word_tokenize(s2))"
   ]
  },
  {
   "cell_type": "markdown",
   "id": "b20532a7",
   "metadata": {
    "slideshow": {
     "slide_type": "slide"
    }
   },
   "source": [
    "## Processing web text\n",
    "\n",
    "> **Web scraping** is a common use case for CSS.  \n",
    "\n",
    "- We won't discuss the details too much here, but enough to get you started.  \n",
    "- You'll use `requests` to access text of web pages.\n",
    "- And then use `BeautifulSoup` and `nltk` to process that text."
   ]
  },
  {
   "cell_type": "markdown",
   "id": "c52291ad",
   "metadata": {
    "slideshow": {
     "slide_type": "slide"
    }
   },
   "source": [
    "### Necessary installations\n",
    "\n",
    "- If you don't have it already, you may need to install some of these libraries."
   ]
  },
  {
   "cell_type": "code",
   "execution_count": 19,
   "id": "b8947349",
   "metadata": {
    "slideshow": {
     "slide_type": "-"
    }
   },
   "outputs": [
    {
     "name": "stdout",
     "output_type": "stream",
     "text": [
      "Requirement already satisfied: nltk in ./venv/lib/python3.10/site-packages (3.8.1)\n",
      "Collecting requests\n",
      "  Using cached requests-2.31.0-py3-none-any.whl.metadata (4.6 kB)\n",
      "Collecting beautifulsoup4\n",
      "  Using cached beautifulsoup4-4.12.3-py3-none-any.whl.metadata (3.8 kB)\n",
      "Requirement already satisfied: click in ./venv/lib/python3.10/site-packages (from nltk) (8.1.7)\n",
      "Requirement already satisfied: joblib in ./venv/lib/python3.10/site-packages (from nltk) (1.4.0)\n",
      "Requirement already satisfied: regex>=2021.8.3 in ./venv/lib/python3.10/site-packages (from nltk) (2023.12.25)\n",
      "Requirement already satisfied: tqdm in ./venv/lib/python3.10/site-packages (from nltk) (4.66.2)\n",
      "Collecting charset-normalizer<4,>=2 (from requests)\n",
      "  Using cached charset_normalizer-3.3.2-cp310-cp310-macosx_11_0_arm64.whl.metadata (33 kB)\n",
      "Collecting idna<4,>=2.5 (from requests)\n",
      "  Downloading idna-3.7-py3-none-any.whl.metadata (9.9 kB)\n",
      "Collecting urllib3<3,>=1.21.1 (from requests)\n",
      "  Downloading urllib3-2.2.1-py3-none-any.whl.metadata (6.4 kB)\n",
      "Collecting certifi>=2017.4.17 (from requests)\n",
      "  Downloading certifi-2024.2.2-py3-none-any.whl.metadata (2.2 kB)\n",
      "Collecting soupsieve>1.2 (from beautifulsoup4)\n",
      "  Using cached soupsieve-2.5-py3-none-any.whl.metadata (4.7 kB)\n",
      "Using cached requests-2.31.0-py3-none-any.whl (62 kB)\n",
      "Using cached beautifulsoup4-4.12.3-py3-none-any.whl (147 kB)\n",
      "Downloading certifi-2024.2.2-py3-none-any.whl (163 kB)\n",
      "\u001b[2K   \u001b[90m━━━━━━━━━━━━━━━━━━━━━━━━━━━━━━━━━━━━━━━━\u001b[0m \u001b[32m163.8/163.8 kB\u001b[0m \u001b[31m6.8 MB/s\u001b[0m eta \u001b[36m0:00:00\u001b[0m\n",
      "\u001b[?25hUsing cached charset_normalizer-3.3.2-cp310-cp310-macosx_11_0_arm64.whl (120 kB)\n",
      "Downloading idna-3.7-py3-none-any.whl (66 kB)\n",
      "\u001b[2K   \u001b[90m━━━━━━━━━━━━━━━━━━━━━━━━━━━━━━━━━━━━━━━━\u001b[0m \u001b[32m66.8/66.8 kB\u001b[0m \u001b[31m7.6 MB/s\u001b[0m eta \u001b[36m0:00:00\u001b[0m\n",
      "\u001b[?25hUsing cached soupsieve-2.5-py3-none-any.whl (36 kB)\n",
      "Downloading urllib3-2.2.1-py3-none-any.whl (121 kB)\n",
      "\u001b[2K   \u001b[90m━━━━━━━━━━━━━━━━━━━━━━━━━━━━━━━━━━━━━━━━\u001b[0m \u001b[32m121.1/121.1 kB\u001b[0m \u001b[31m10.0 MB/s\u001b[0m eta \u001b[36m0:00:00\u001b[0m\n",
      "\u001b[?25hInstalling collected packages: urllib3, soupsieve, idna, charset-normalizer, certifi, requests, beautifulsoup4\n",
      "Successfully installed beautifulsoup4-4.12.3 certifi-2024.2.2 charset-normalizer-3.3.2 idna-3.7 requests-2.31.0 soupsieve-2.5 urllib3-2.2.1\n",
      "Note: you may need to restart the kernel to use updated packages.\n"
     ]
    }
   ],
   "source": [
    "pip install nltk requests beautifulsoup4"
   ]
  },
  {
   "cell_type": "markdown",
   "id": "36eedcc7",
   "metadata": {
    "slideshow": {
     "slide_type": "slide"
    }
   },
   "source": [
    "### Fetching web content with `requests`\n",
    "\n",
    "> The [`requests` library](https://pypi.org/project/requests/ is a library for retrieving the HTML from a web addres."
   ]
  },
  {
   "cell_type": "code",
   "execution_count": 20,
   "id": "46bf6b00",
   "metadata": {},
   "outputs": [],
   "source": [
    "import requests ### requests libriary: proceses urls"
   ]
  },
  {
   "cell_type": "code",
   "execution_count": 21,
   "id": "d4a7c223",
   "metadata": {
    "slideshow": {
     "slide_type": "-"
    }
   },
   "outputs": [],
   "source": [
    "### Let's look at my CSS 2 syllabus page\n",
    "url = \"https://ucsd-css2.github.io/ucsd-css2-website/course/syllabus.html\""
   ]
  },
  {
   "cell_type": "code",
   "execution_count": 22,
   "id": "55ac04e2",
   "metadata": {
    "slideshow": {
     "slide_type": "-"
    }
   },
   "outputs": [
    {
     "data": {
      "text/plain": [
       "requests.models.Response"
      ]
     },
     "execution_count": 22,
     "metadata": {},
     "output_type": "execute_result"
    }
   ],
   "source": [
    "# Fetch the content from the URL -- obv need internet\n",
    "response = requests.get(url)\n",
    "type(response)"
   ]
  },
  {
   "cell_type": "markdown",
   "id": "1752fd5d",
   "metadata": {
    "slideshow": {
     "slide_type": "slide"
    }
   },
   "source": [
    "#### What's in the `Response`?\n",
    "\n",
    "- The `Response` object has a number of features, like `.json`, `.links`, and `.text`.  \n",
    "- We'll focus on `.text`, which is...all HTML!"
   ]
  },
  {
   "cell_type": "code",
   "execution_count": 23,
   "id": "80eca9cb",
   "metadata": {
    "slideshow": {
     "slide_type": "-"
    }
   },
   "outputs": [
    {
     "data": {
      "text/plain": [
       "'\\n\\n<!DOCTYPE html>\\n\\n\\n<html lang=\"en\" data-content_root=\"\" >\\n\\n  <head>\\n    <meta charset=\"utf-8\" />\\n  '"
      ]
     },
     "execution_count": 23,
     "metadata": {},
     "output_type": "execute_result"
    }
   ],
   "source": [
    "response.text[0:100]"
   ]
  },
  {
   "cell_type": "markdown",
   "id": "cde4ce94",
   "metadata": {
    "slideshow": {
     "slide_type": "slide"
    }
   },
   "source": [
    "### Simplifying with `BeautifulSoup`\n",
    "\n",
    "- `BeautifulSoup` can be used to **extract structure** from that HTML text."
   ]
  },
  {
   "cell_type": "code",
   "execution_count": 24,
   "id": "6eb95c8f",
   "metadata": {
    "slideshow": {
     "slide_type": "-"
    }
   },
   "outputs": [],
   "source": [
    "from bs4 import BeautifulSoup ### import"
   ]
  },
  {
   "cell_type": "code",
   "execution_count": 26,
   "id": "cea0bf04",
   "metadata": {
    "slideshow": {
     "slide_type": "-"
    }
   },
   "outputs": [
    {
     "data": {
      "text/plain": [
       "bs4.BeautifulSoup"
      ]
     },
     "execution_count": 26,
     "metadata": {},
     "output_type": "execute_result"
    }
   ],
   "source": [
    "# Use BeautifulSoup to parse the HTML content\n",
    "soup = BeautifulSoup(response.text, 'html.parser') # parse the text using your parser to deal with html\n",
    "type(soup)"
   ]
  },
  {
   "cell_type": "code",
   "execution_count": 27,
   "id": "39d37874",
   "metadata": {},
   "outputs": [
    {
     "name": "stdout",
     "output_type": "stream",
     "text": [
      "Help on BeautifulSoup in module bs4 object:\n",
      "\n",
      "class BeautifulSoup(bs4.element.Tag)\n",
      " |  BeautifulSoup(markup='', features=None, builder=None, parse_only=None, from_encoding=None, exclude_encodings=None, element_classes=None, **kwargs)\n",
      " |  \n",
      " |  A data structure representing a parsed HTML or XML document.\n",
      " |  \n",
      " |  Most of the methods you'll call on a BeautifulSoup object are inherited from\n",
      " |  PageElement or Tag.\n",
      " |  \n",
      " |  Internally, this class defines the basic interface called by the\n",
      " |  tree builders when converting an HTML/XML document into a data\n",
      " |  structure. The interface abstracts away the differences between\n",
      " |  parsers. To write a new tree builder, you'll need to understand\n",
      " |  these methods as a whole.\n",
      " |  \n",
      " |  These methods will be called by the BeautifulSoup constructor:\n",
      " |    * reset()\n",
      " |    * feed(markup)\n",
      " |  \n",
      " |  The tree builder may call these methods from its feed() implementation:\n",
      " |    * handle_starttag(name, attrs) # See note about return value\n",
      " |    * handle_endtag(name)\n",
      " |    * handle_data(data) # Appends to the current data node\n",
      " |    * endData(containerClass) # Ends the current data node\n",
      " |  \n",
      " |  No matter how complicated the underlying parser is, you should be\n",
      " |  able to build a tree using 'start tag' events, 'end tag' events,\n",
      " |  'data' events, and \"done with data\" events.\n",
      " |  \n",
      " |  If you encounter an empty-element tag (aka a self-closing tag,\n",
      " |  like HTML's <br> tag), call handle_starttag and then\n",
      " |  handle_endtag.\n",
      " |  \n",
      " |  Method resolution order:\n",
      " |      BeautifulSoup\n",
      " |      bs4.element.Tag\n",
      " |      bs4.element.PageElement\n",
      " |      builtins.object\n",
      " |  \n",
      " |  Methods defined here:\n",
      " |  \n",
      " |  __getstate__(self)\n",
      " |  \n",
      " |  __init__(self, markup='', features=None, builder=None, parse_only=None, from_encoding=None, exclude_encodings=None, element_classes=None, **kwargs)\n",
      " |      Constructor.\n",
      " |      \n",
      " |      :param markup: A string or a file-like object representing\n",
      " |       markup to be parsed.\n",
      " |      \n",
      " |      :param features: Desirable features of the parser to be\n",
      " |       used. This may be the name of a specific parser (\"lxml\",\n",
      " |       \"lxml-xml\", \"html.parser\", or \"html5lib\") or it may be the\n",
      " |       type of markup to be used (\"html\", \"html5\", \"xml\"). It's\n",
      " |       recommended that you name a specific parser, so that\n",
      " |       Beautiful Soup gives you the same results across platforms\n",
      " |       and virtual environments.\n",
      " |      \n",
      " |      :param builder: A TreeBuilder subclass to instantiate (or\n",
      " |       instance to use) instead of looking one up based on\n",
      " |       `features`. You only need to use this if you've implemented a\n",
      " |       custom TreeBuilder.\n",
      " |      \n",
      " |      :param parse_only: A SoupStrainer. Only parts of the document\n",
      " |       matching the SoupStrainer will be considered. This is useful\n",
      " |       when parsing part of a document that would otherwise be too\n",
      " |       large to fit into memory.\n",
      " |      \n",
      " |      :param from_encoding: A string indicating the encoding of the\n",
      " |       document to be parsed. Pass this in if Beautiful Soup is\n",
      " |       guessing wrongly about the document's encoding.\n",
      " |      \n",
      " |      :param exclude_encodings: A list of strings indicating\n",
      " |       encodings known to be wrong. Pass this in if you don't know\n",
      " |       the document's encoding but you know Beautiful Soup's guess is\n",
      " |       wrong.\n",
      " |      \n",
      " |      :param element_classes: A dictionary mapping BeautifulSoup\n",
      " |       classes like Tag and NavigableString, to other classes you'd\n",
      " |       like to be instantiated instead as the parse tree is\n",
      " |       built. This is useful for subclassing Tag or NavigableString\n",
      " |       to modify default behavior.\n",
      " |      \n",
      " |      :param kwargs: For backwards compatibility purposes, the\n",
      " |       constructor accepts certain keyword arguments used in\n",
      " |       Beautiful Soup 3. None of these arguments do anything in\n",
      " |       Beautiful Soup 4; they will result in a warning and then be\n",
      " |       ignored.\n",
      " |       \n",
      " |       Apart from this, any keyword arguments passed into the\n",
      " |       BeautifulSoup constructor are propagated to the TreeBuilder\n",
      " |       constructor. This makes it possible to configure a\n",
      " |       TreeBuilder by passing in arguments, not just by saying which\n",
      " |       one to use.\n",
      " |  \n",
      " |  __setstate__(self, state)\n",
      " |  \n",
      " |  decode(self, pretty_print=False, eventual_encoding='utf-8', formatter='minimal', iterator=None)\n",
      " |      Returns a string or Unicode representation of the parse tree\n",
      " |          as an HTML or XML document.\n",
      " |      \n",
      " |      :param pretty_print: If this is True, indentation will be used to\n",
      " |          make the document more readable.\n",
      " |      :param eventual_encoding: The encoding of the final document.\n",
      " |          If this is None, the document will be a Unicode string.\n",
      " |  \n",
      " |  endData(self, containerClass=None)\n",
      " |      Method called by the TreeBuilder when the end of a data segment\n",
      " |      occurs.\n",
      " |  \n",
      " |  handle_data(self, data)\n",
      " |      Called by the tree builder when a chunk of textual data is encountered.\n",
      " |  \n",
      " |  handle_endtag(self, name, nsprefix=None)\n",
      " |      Called by the tree builder when an ending tag is encountered.\n",
      " |      \n",
      " |      :param name: Name of the tag.\n",
      " |      :param nsprefix: Namespace prefix for the tag.\n",
      " |  \n",
      " |  handle_starttag(self, name, namespace, nsprefix, attrs, sourceline=None, sourcepos=None, namespaces=None)\n",
      " |      Called by the tree builder when a new tag is encountered.\n",
      " |      \n",
      " |      :param name: Name of the tag.\n",
      " |      :param nsprefix: Namespace prefix for the tag.\n",
      " |      :param attrs: A dictionary of attribute values.\n",
      " |      :param sourceline: The line number where this tag was found in its\n",
      " |          source document.\n",
      " |      :param sourcepos: The character position within `sourceline` where this\n",
      " |          tag was found.\n",
      " |      :param namespaces: A dictionary of all namespace prefix mappings \n",
      " |          currently in scope in the document.\n",
      " |      \n",
      " |      If this method returns None, the tag was rejected by an active\n",
      " |      SoupStrainer. You should proceed as if the tag had not occurred\n",
      " |      in the document. For instance, if this was a self-closing tag,\n",
      " |      don't call handle_endtag.\n",
      " |  \n",
      " |  insert_after(self, *args)\n",
      " |      This method is part of the PageElement API, but `BeautifulSoup` doesn't implement\n",
      " |      it because there is nothing before or after it in the parse tree.\n",
      " |  \n",
      " |  insert_before(self, *args)\n",
      " |      This method is part of the PageElement API, but `BeautifulSoup` doesn't implement\n",
      " |      it because there is nothing before or after it in the parse tree.\n",
      " |  \n",
      " |  new_string(self, s, subclass=None)\n",
      " |      Create a new NavigableString associated with this BeautifulSoup\n",
      " |      object.\n",
      " |  \n",
      " |  new_tag(self, name, namespace=None, nsprefix=None, attrs={}, sourceline=None, sourcepos=None, **kwattrs)\n",
      " |      Create a new Tag associated with this BeautifulSoup object.\n",
      " |      \n",
      " |      :param name: The name of the new Tag.\n",
      " |      :param namespace: The URI of the new Tag's XML namespace, if any.\n",
      " |      :param prefix: The prefix for the new Tag's XML namespace, if any.\n",
      " |      :param attrs: A dictionary of this Tag's attribute values; can\n",
      " |          be used instead of `kwattrs` for attributes like 'class'\n",
      " |          that are reserved words in Python.\n",
      " |      :param sourceline: The line number where this tag was\n",
      " |          (purportedly) found in its source document.\n",
      " |      :param sourcepos: The character position within `sourceline` where this\n",
      " |          tag was (purportedly) found.\n",
      " |      :param kwattrs: Keyword arguments for the new Tag's attribute values.\n",
      " |  \n",
      " |  object_was_parsed(self, o, parent=None, most_recent_element=None)\n",
      " |      Method called by the TreeBuilder to integrate an object into the parse tree.\n",
      " |  \n",
      " |  popTag(self)\n",
      " |      Internal method called by _popToTag when a tag is closed.\n",
      " |  \n",
      " |  pushTag(self, tag)\n",
      " |      Internal method called by handle_starttag when a tag is opened.\n",
      " |  \n",
      " |  reset(self)\n",
      " |      Reset this object to a state as though it had never parsed any\n",
      " |      markup.\n",
      " |  \n",
      " |  string_container(self, base_class=None)\n",
      " |  \n",
      " |  ----------------------------------------------------------------------\n",
      " |  Data and other attributes defined here:\n",
      " |  \n",
      " |  ASCII_SPACES = ' \\n\\t\\x0c\\r'\n",
      " |  \n",
      " |  DEFAULT_BUILDER_FEATURES = ['html', 'fast']\n",
      " |  \n",
      " |  NO_PARSER_SPECIFIED_WARNING = 'No parser was explicitly specified, so ...\n",
      " |  \n",
      " |  ROOT_TAG_NAME = '[document]'\n",
      " |  \n",
      " |  ----------------------------------------------------------------------\n",
      " |  Methods inherited from bs4.element.Tag:\n",
      " |  \n",
      " |  __bool__(self)\n",
      " |      A tag is non-None even if it has no contents.\n",
      " |  \n",
      " |  __call__(self, *args, **kwargs)\n",
      " |      Calling a Tag like a function is the same as calling its\n",
      " |      find_all() method. Eg. tag('a') returns a list of all the A tags\n",
      " |      found within this tag.\n",
      " |  \n",
      " |  __contains__(self, x)\n",
      " |  \n",
      " |  __copy__(self)\n",
      " |      A copy of a Tag must always be a deep copy, because a Tag's\n",
      " |      children can only have one parent at a time.\n",
      " |  \n",
      " |  __deepcopy__(self, memo, recursive=True)\n",
      " |      A deepcopy of a Tag is a new Tag, unconnected to the parse tree.\n",
      " |      Its contents are a copy of the old Tag's contents.\n",
      " |  \n",
      " |  __delitem__(self, key)\n",
      " |      Deleting tag[key] deletes all 'key' attributes for the tag.\n",
      " |  \n",
      " |  __eq__(self, other)\n",
      " |      Returns true iff this Tag has the same name, the same attributes,\n",
      " |      and the same contents (recursively) as `other`.\n",
      " |  \n",
      " |  __getattr__(self, tag)\n",
      " |      Calling tag.subtag is the same as calling tag.find(name=\"subtag\")\n",
      " |  \n",
      " |  __getitem__(self, key)\n",
      " |      tag[key] returns the value of the 'key' attribute for the Tag,\n",
      " |      and throws an exception if it's not there.\n",
      " |  \n",
      " |  __hash__(self)\n",
      " |      Return hash(self).\n",
      " |  \n",
      " |  __iter__(self)\n",
      " |      Iterating over a Tag iterates over its contents.\n",
      " |  \n",
      " |  __len__(self)\n",
      " |      The length of a Tag is the length of its list of contents.\n",
      " |  \n",
      " |  __ne__(self, other)\n",
      " |      Returns true iff this Tag is not identical to `other`,\n",
      " |      as defined in __eq__.\n",
      " |  \n",
      " |  __repr__ = __unicode__(self)\n",
      " |  \n",
      " |  __setitem__(self, key, value)\n",
      " |      Setting tag[key] sets the value of the 'key' attribute for the\n",
      " |      tag.\n",
      " |  \n",
      " |  __str__ = __unicode__(self)\n",
      " |  \n",
      " |  __unicode__(self)\n",
      " |      Renders this PageElement as a Unicode string.\n",
      " |  \n",
      " |  childGenerator(self)\n",
      " |      Deprecated generator.\n",
      " |  \n",
      " |  clear(self, decompose=False)\n",
      " |      Wipe out all children of this PageElement by calling extract()\n",
      " |         on them.\n",
      " |      \n",
      " |      :param decompose: If this is True, decompose() (a more\n",
      " |          destructive method) will be called instead of extract().\n",
      " |  \n",
      " |  decode_contents(self, indent_level=None, eventual_encoding='utf-8', formatter='minimal')\n",
      " |      Renders the contents of this tag as a Unicode string.\n",
      " |      \n",
      " |      :param indent_level: Each line of the rendering will be\n",
      " |         indented this many levels. (The formatter decides what a\n",
      " |         'level' means in terms of spaces or other characters\n",
      " |         output.) Used internally in recursive calls while\n",
      " |         pretty-printing.\n",
      " |      \n",
      " |      :param eventual_encoding: The tag is destined to be\n",
      " |         encoded into this encoding. decode_contents() is _not_\n",
      " |         responsible for performing that encoding. This information\n",
      " |         is passed in so that it can be substituted in if the\n",
      " |         document contains a <META> tag that mentions the document's\n",
      " |         encoding.\n",
      " |      \n",
      " |      :param formatter: A Formatter object, or a string naming one of\n",
      " |          the standard Formatters.\n",
      " |  \n",
      " |  decompose(self)\n",
      " |      Recursively destroys this PageElement and its children.\n",
      " |      \n",
      " |      This element will be removed from the tree and wiped out; so\n",
      " |      will everything beneath it.\n",
      " |      \n",
      " |      The behavior of a decomposed PageElement is undefined and you\n",
      " |      should never use one for anything, but if you need to _check_\n",
      " |      whether an element has been decomposed, you can use the\n",
      " |      `decomposed` property.\n",
      " |  \n",
      " |  encode(self, encoding='utf-8', indent_level=None, formatter='minimal', errors='xmlcharrefreplace')\n",
      " |      Render a bytestring representation of this PageElement and its\n",
      " |      contents.\n",
      " |      \n",
      " |      :param encoding: The destination encoding.\n",
      " |      :param indent_level: Each line of the rendering will be\n",
      " |         indented this many levels. (The formatter decides what a\n",
      " |         'level' means in terms of spaces or other characters\n",
      " |         output.) Used internally in recursive calls while\n",
      " |         pretty-printing.\n",
      " |      :param formatter: A Formatter object, or a string naming one of\n",
      " |          the standard formatters.\n",
      " |      :param errors: An error handling strategy such as\n",
      " |          'xmlcharrefreplace'. This value is passed along into\n",
      " |          encode() and its value should be one of the constants\n",
      " |          defined by Python.\n",
      " |      :return: A bytestring.\n",
      " |  \n",
      " |  encode_contents(self, indent_level=None, encoding='utf-8', formatter='minimal')\n",
      " |      Renders the contents of this PageElement as a bytestring.\n",
      " |      \n",
      " |      :param indent_level: Each line of the rendering will be\n",
      " |         indented this many levels. (The formatter decides what a\n",
      " |         'level' means in terms of spaces or other characters\n",
      " |         output.) Used internally in recursive calls while\n",
      " |         pretty-printing.\n",
      " |      \n",
      " |      :param eventual_encoding: The bytestring will be in this encoding.\n",
      " |      \n",
      " |      :param formatter: A Formatter object, or a string naming one of\n",
      " |          the standard Formatters.\n",
      " |      \n",
      " |      :return: A bytestring.\n",
      " |  \n",
      " |  find(self, name=None, attrs={}, recursive=True, string=None, **kwargs)\n",
      " |      Look in the children of this PageElement and find the first\n",
      " |      PageElement that matches the given criteria.\n",
      " |      \n",
      " |      All find_* methods take a common set of arguments. See the online\n",
      " |      documentation for detailed explanations.\n",
      " |      \n",
      " |      :param name: A filter on tag name.\n",
      " |      :param attrs: A dictionary of filters on attribute values.\n",
      " |      :param recursive: If this is True, find() will perform a\n",
      " |          recursive search of this PageElement's children. Otherwise,\n",
      " |          only the direct children will be considered.\n",
      " |      :param limit: Stop looking after finding this many results.\n",
      " |      :kwargs: A dictionary of filters on attribute values.\n",
      " |      :return: A PageElement.\n",
      " |      :rtype: bs4.element.Tag | bs4.element.NavigableString\n",
      " |  \n",
      " |  findAll = find_all(self, name=None, attrs={}, recursive=True, string=None, limit=None, **kwargs)\n",
      " |  \n",
      " |  findChild = find(self, name=None, attrs={}, recursive=True, string=None, **kwargs)\n",
      " |  \n",
      " |  findChildren = find_all(self, name=None, attrs={}, recursive=True, string=None, limit=None, **kwargs)\n",
      " |  \n",
      " |  find_all(self, name=None, attrs={}, recursive=True, string=None, limit=None, **kwargs)\n",
      " |      Look in the children of this PageElement and find all\n",
      " |      PageElements that match the given criteria.\n",
      " |      \n",
      " |      All find_* methods take a common set of arguments. See the online\n",
      " |      documentation for detailed explanations.\n",
      " |      \n",
      " |      :param name: A filter on tag name.\n",
      " |      :param attrs: A dictionary of filters on attribute values.\n",
      " |      :param recursive: If this is True, find_all() will perform a\n",
      " |          recursive search of this PageElement's children. Otherwise,\n",
      " |          only the direct children will be considered.\n",
      " |      :param limit: Stop looking after finding this many results.\n",
      " |      :kwargs: A dictionary of filters on attribute values.\n",
      " |      :return: A ResultSet of PageElements.\n",
      " |      :rtype: bs4.element.ResultSet\n",
      " |  \n",
      " |  get(self, key, default=None)\n",
      " |      Returns the value of the 'key' attribute for the tag, or\n",
      " |      the value given for 'default' if it doesn't have that\n",
      " |      attribute.\n",
      " |  \n",
      " |  get_attribute_list(self, key, default=None)\n",
      " |      The same as get(), but always returns a list.\n",
      " |      \n",
      " |      :param key: The attribute to look for.\n",
      " |      :param default: Use this value if the attribute is not present\n",
      " |          on this PageElement.\n",
      " |      :return: A list of values, probably containing only a single\n",
      " |          value.\n",
      " |  \n",
      " |  has_attr(self, key)\n",
      " |      Does this PageElement have an attribute with the given name?\n",
      " |  \n",
      " |  has_key(self, key)\n",
      " |      Deprecated method. This was kind of misleading because has_key()\n",
      " |      (attributes) was different from __in__ (contents).\n",
      " |      \n",
      " |      has_key() is gone in Python 3, anyway.\n",
      " |  \n",
      " |  index(self, element)\n",
      " |      Find the index of a child by identity, not value.\n",
      " |      \n",
      " |      Avoids issues with tag.contents.index(element) getting the\n",
      " |      index of equal elements.\n",
      " |      \n",
      " |      :param element: Look for this PageElement in `self.contents`.\n",
      " |  \n",
      " |  prettify(self, encoding=None, formatter='minimal')\n",
      " |      Pretty-print this PageElement as a string.\n",
      " |      \n",
      " |      :param encoding: The eventual encoding of the string. If this is None,\n",
      " |          a Unicode string will be returned.\n",
      " |      :param formatter: A Formatter object, or a string naming one of\n",
      " |          the standard formatters.\n",
      " |      :return: A Unicode string (if encoding==None) or a bytestring\n",
      " |          (otherwise).\n",
      " |  \n",
      " |  recursiveChildGenerator(self)\n",
      " |      Deprecated generator.\n",
      " |  \n",
      " |  renderContents(self, encoding='utf-8', prettyPrint=False, indentLevel=0)\n",
      " |      Deprecated method for BS3 compatibility.\n",
      " |  \n",
      " |  select(self, selector, namespaces=None, limit=None, **kwargs)\n",
      " |      Perform a CSS selection operation on the current element.\n",
      " |      \n",
      " |      This uses the SoupSieve library.\n",
      " |      \n",
      " |      :param selector: A string containing a CSS selector.\n",
      " |      \n",
      " |      :param namespaces: A dictionary mapping namespace prefixes\n",
      " |         used in the CSS selector to namespace URIs. By default,\n",
      " |         Beautiful Soup will use the prefixes it encountered while\n",
      " |         parsing the document.\n",
      " |      \n",
      " |      :param limit: After finding this number of results, stop looking.\n",
      " |      \n",
      " |      :param kwargs: Keyword arguments to be passed into SoupSieve's\n",
      " |         soupsieve.select() method.\n",
      " |      \n",
      " |      :return: A ResultSet of Tags.\n",
      " |      :rtype: bs4.element.ResultSet\n",
      " |  \n",
      " |  select_one(self, selector, namespaces=None, **kwargs)\n",
      " |      Perform a CSS selection operation on the current element.\n",
      " |      \n",
      " |      :param selector: A CSS selector.\n",
      " |      \n",
      " |      :param namespaces: A dictionary mapping namespace prefixes\n",
      " |         used in the CSS selector to namespace URIs. By default,\n",
      " |         Beautiful Soup will use the prefixes it encountered while\n",
      " |         parsing the document.\n",
      " |      \n",
      " |      :param kwargs: Keyword arguments to be passed into Soup Sieve's\n",
      " |         soupsieve.select() method.\n",
      " |      \n",
      " |      :return: A Tag.\n",
      " |      :rtype: bs4.element.Tag\n",
      " |  \n",
      " |  smooth(self)\n",
      " |      Smooth out this element's children by consolidating consecutive\n",
      " |      strings.\n",
      " |      \n",
      " |      This makes pretty-printed output look more natural following a\n",
      " |      lot of operations that modified the tree.\n",
      " |  \n",
      " |  ----------------------------------------------------------------------\n",
      " |  Readonly properties inherited from bs4.element.Tag:\n",
      " |  \n",
      " |  children\n",
      " |      Iterate over all direct children of this PageElement.\n",
      " |      \n",
      " |      :yield: A sequence of PageElements.\n",
      " |  \n",
      " |  css\n",
      " |      Return an interface to the CSS selector API.\n",
      " |  \n",
      " |  descendants\n",
      " |      Iterate over all children of this PageElement in a\n",
      " |      breadth-first sequence.\n",
      " |      \n",
      " |      :yield: A sequence of PageElements.\n",
      " |  \n",
      " |  isSelfClosing\n",
      " |      Is this tag an empty-element tag? (aka a self-closing tag)\n",
      " |      \n",
      " |      A tag that has contents is never an empty-element tag.\n",
      " |      \n",
      " |      A tag that has no contents may or may not be an empty-element\n",
      " |      tag. It depends on the builder used to create the tag. If the\n",
      " |      builder has a designated list of empty-element tags, then only\n",
      " |      a tag whose name shows up in that list is considered an\n",
      " |      empty-element tag.\n",
      " |      \n",
      " |      If the builder has no designated list of empty-element tags,\n",
      " |      then any tag with no contents is an empty-element tag.\n",
      " |  \n",
      " |  is_empty_element\n",
      " |      Is this tag an empty-element tag? (aka a self-closing tag)\n",
      " |      \n",
      " |      A tag that has contents is never an empty-element tag.\n",
      " |      \n",
      " |      A tag that has no contents may or may not be an empty-element\n",
      " |      tag. It depends on the builder used to create the tag. If the\n",
      " |      builder has a designated list of empty-element tags, then only\n",
      " |      a tag whose name shows up in that list is considered an\n",
      " |      empty-element tag.\n",
      " |      \n",
      " |      If the builder has no designated list of empty-element tags,\n",
      " |      then any tag with no contents is an empty-element tag.\n",
      " |  \n",
      " |  self_and_descendants\n",
      " |      Iterate over this PageElement and its children in a\n",
      " |      breadth-first sequence.\n",
      " |      \n",
      " |      :yield: A sequence of PageElements.\n",
      " |  \n",
      " |  strings\n",
      " |      Yield all strings of certain classes, possibly stripping them.\n",
      " |      \n",
      " |      :param strip: If True, all strings will be stripped before being\n",
      " |          yielded.\n",
      " |      \n",
      " |      :param types: A tuple of NavigableString subclasses. Any strings of\n",
      " |          a subclass not found in this list will be ignored. By\n",
      " |          default, the subclasses considered are the ones found in\n",
      " |          self.interesting_string_types. If that's not specified,\n",
      " |          only NavigableString and CData objects will be\n",
      " |          considered. That means no comments, processing\n",
      " |          instructions, etc.\n",
      " |      \n",
      " |      :yield: A sequence of strings.\n",
      " |  \n",
      " |  ----------------------------------------------------------------------\n",
      " |  Data descriptors inherited from bs4.element.Tag:\n",
      " |  \n",
      " |  parserClass\n",
      " |  \n",
      " |  string\n",
      " |      Convenience property to get the single string within this\n",
      " |      PageElement.\n",
      " |      \n",
      " |      TODO It might make sense to have NavigableString.string return\n",
      " |      itself.\n",
      " |      \n",
      " |      :return: If this element has a single string child, return\n",
      " |       value is that string. If this element has one child tag,\n",
      " |       return value is the 'string' attribute of the child tag,\n",
      " |       recursively. If this element is itself a string, has no\n",
      " |       children, or has more than one child, return value is None.\n",
      " |  \n",
      " |  ----------------------------------------------------------------------\n",
      " |  Data and other attributes inherited from bs4.element.Tag:\n",
      " |  \n",
      " |  DEFAULT_INTERESTING_STRING_TYPES = (<class 'bs4.element.NavigableStrin...\n",
      " |  \n",
      " |  EMPTY_ELEMENT_EVENT = <object object>\n",
      " |  \n",
      " |  END_ELEMENT_EVENT = <object object>\n",
      " |  \n",
      " |  START_ELEMENT_EVENT = <object object>\n",
      " |  \n",
      " |  STRING_ELEMENT_EVENT = <object object>\n",
      " |  \n",
      " |  ----------------------------------------------------------------------\n",
      " |  Methods inherited from bs4.element.PageElement:\n",
      " |  \n",
      " |  append(self, tag)\n",
      " |      Appends the given PageElement to the contents of this one.\n",
      " |      \n",
      " |      :param tag: A PageElement.\n",
      " |  \n",
      " |  extend(self, tags)\n",
      " |      Appends the given PageElements to this one's contents.\n",
      " |      \n",
      " |      :param tags: A list of PageElements. If a single Tag is\n",
      " |          provided instead, this PageElement's contents will be extended\n",
      " |          with that Tag's contents.\n",
      " |  \n",
      " |  extract(self, _self_index=None)\n",
      " |      Destructively rips this element out of the tree.\n",
      " |      \n",
      " |      :param _self_index: The location of this element in its parent's\n",
      " |         .contents, if known. Passing this in allows for a performance\n",
      " |         optimization.\n",
      " |      \n",
      " |      :return: `self`, no longer part of the tree.\n",
      " |  \n",
      " |  fetchNextSiblings = find_next_siblings(self, name=None, attrs={}, string=None, limit=None, **kwargs)\n",
      " |  \n",
      " |  fetchParents = find_parents(self, name=None, attrs={}, limit=None, **kwargs)\n",
      " |  \n",
      " |  fetchPrevious = find_all_previous(self, name=None, attrs={}, string=None, limit=None, **kwargs)\n",
      " |  \n",
      " |  fetchPreviousSiblings = find_previous_siblings(self, name=None, attrs={}, string=None, limit=None, **kwargs)\n",
      " |  \n",
      " |  findAllNext = find_all_next(self, name=None, attrs={}, string=None, limit=None, **kwargs)\n",
      " |  \n",
      " |  findAllPrevious = find_all_previous(self, name=None, attrs={}, string=None, limit=None, **kwargs)\n",
      " |  \n",
      " |  findNext = find_next(self, name=None, attrs={}, string=None, **kwargs)\n",
      " |  \n",
      " |  findNextSibling = find_next_sibling(self, name=None, attrs={}, string=None, **kwargs)\n",
      " |  \n",
      " |  findNextSiblings = find_next_siblings(self, name=None, attrs={}, string=None, limit=None, **kwargs)\n",
      " |  \n",
      " |  findParent = find_parent(self, name=None, attrs={}, **kwargs)\n",
      " |  \n",
      " |  findParents = find_parents(self, name=None, attrs={}, limit=None, **kwargs)\n",
      " |  \n",
      " |  findPrevious = find_previous(self, name=None, attrs={}, string=None, **kwargs)\n",
      " |  \n",
      " |  findPreviousSibling = find_previous_sibling(self, name=None, attrs={}, string=None, **kwargs)\n",
      " |  \n",
      " |  findPreviousSiblings = find_previous_siblings(self, name=None, attrs={}, string=None, limit=None, **kwargs)\n",
      " |  \n",
      " |  find_all_next(self, name=None, attrs={}, string=None, limit=None, **kwargs)\n",
      " |      Find all PageElements that match the given criteria and appear\n",
      " |      later in the document than this PageElement.\n",
      " |      \n",
      " |      All find_* methods take a common set of arguments. See the online\n",
      " |      documentation for detailed explanations.\n",
      " |      \n",
      " |      :param name: A filter on tag name.\n",
      " |      :param attrs: A dictionary of filters on attribute values.\n",
      " |      :param string: A filter for a NavigableString with specific text.\n",
      " |      :param limit: Stop looking after finding this many results.\n",
      " |      :kwargs: A dictionary of filters on attribute values.\n",
      " |      :return: A ResultSet containing PageElements.\n",
      " |  \n",
      " |  find_all_previous(self, name=None, attrs={}, string=None, limit=None, **kwargs)\n",
      " |      Look backwards in the document from this PageElement and find all\n",
      " |      PageElements that match the given criteria.\n",
      " |      \n",
      " |      All find_* methods take a common set of arguments. See the online\n",
      " |      documentation for detailed explanations.\n",
      " |      \n",
      " |      :param name: A filter on tag name.\n",
      " |      :param attrs: A dictionary of filters on attribute values.\n",
      " |      :param string: A filter for a NavigableString with specific text.\n",
      " |      :param limit: Stop looking after finding this many results.\n",
      " |      :kwargs: A dictionary of filters on attribute values.\n",
      " |      :return: A ResultSet of PageElements.\n",
      " |      :rtype: bs4.element.ResultSet\n",
      " |  \n",
      " |  find_next(self, name=None, attrs={}, string=None, **kwargs)\n",
      " |      Find the first PageElement that matches the given criteria and\n",
      " |      appears later in the document than this PageElement.\n",
      " |      \n",
      " |      All find_* methods take a common set of arguments. See the online\n",
      " |      documentation for detailed explanations.\n",
      " |      \n",
      " |      :param name: A filter on tag name.\n",
      " |      :param attrs: A dictionary of filters on attribute values.\n",
      " |      :param string: A filter for a NavigableString with specific text.\n",
      " |      :kwargs: A dictionary of filters on attribute values.\n",
      " |      :return: A PageElement.\n",
      " |      :rtype: bs4.element.Tag | bs4.element.NavigableString\n",
      " |  \n",
      " |  find_next_sibling(self, name=None, attrs={}, string=None, **kwargs)\n",
      " |      Find the closest sibling to this PageElement that matches the\n",
      " |      given criteria and appears later in the document.\n",
      " |      \n",
      " |      All find_* methods take a common set of arguments. See the\n",
      " |      online documentation for detailed explanations.\n",
      " |      \n",
      " |      :param name: A filter on tag name.\n",
      " |      :param attrs: A dictionary of filters on attribute values.\n",
      " |      :param string: A filter for a NavigableString with specific text.\n",
      " |      :kwargs: A dictionary of filters on attribute values.\n",
      " |      :return: A PageElement.\n",
      " |      :rtype: bs4.element.Tag | bs4.element.NavigableString\n",
      " |  \n",
      " |  find_next_siblings(self, name=None, attrs={}, string=None, limit=None, **kwargs)\n",
      " |      Find all siblings of this PageElement that match the given criteria\n",
      " |      and appear later in the document.\n",
      " |      \n",
      " |      All find_* methods take a common set of arguments. See the online\n",
      " |      documentation for detailed explanations.\n",
      " |      \n",
      " |      :param name: A filter on tag name.\n",
      " |      :param attrs: A dictionary of filters on attribute values.\n",
      " |      :param string: A filter for a NavigableString with specific text.\n",
      " |      :param limit: Stop looking after finding this many results.\n",
      " |      :kwargs: A dictionary of filters on attribute values.\n",
      " |      :return: A ResultSet of PageElements.\n",
      " |      :rtype: bs4.element.ResultSet\n",
      " |  \n",
      " |  find_parent(self, name=None, attrs={}, **kwargs)\n",
      " |      Find the closest parent of this PageElement that matches the given\n",
      " |      criteria.\n",
      " |      \n",
      " |      All find_* methods take a common set of arguments. See the online\n",
      " |      documentation for detailed explanations.\n",
      " |      \n",
      " |      :param name: A filter on tag name.\n",
      " |      :param attrs: A dictionary of filters on attribute values.\n",
      " |      :kwargs: A dictionary of filters on attribute values.\n",
      " |      \n",
      " |      :return: A PageElement.\n",
      " |      :rtype: bs4.element.Tag | bs4.element.NavigableString\n",
      " |  \n",
      " |  find_parents(self, name=None, attrs={}, limit=None, **kwargs)\n",
      " |      Find all parents of this PageElement that match the given criteria.\n",
      " |      \n",
      " |      All find_* methods take a common set of arguments. See the online\n",
      " |      documentation for detailed explanations.\n",
      " |      \n",
      " |      :param name: A filter on tag name.\n",
      " |      :param attrs: A dictionary of filters on attribute values.\n",
      " |      :param limit: Stop looking after finding this many results.\n",
      " |      :kwargs: A dictionary of filters on attribute values.\n",
      " |      \n",
      " |      :return: A PageElement.\n",
      " |      :rtype: bs4.element.Tag | bs4.element.NavigableString\n",
      " |  \n",
      " |  find_previous(self, name=None, attrs={}, string=None, **kwargs)\n",
      " |      Look backwards in the document from this PageElement and find the\n",
      " |      first PageElement that matches the given criteria.\n",
      " |      \n",
      " |      All find_* methods take a common set of arguments. See the online\n",
      " |      documentation for detailed explanations.\n",
      " |      \n",
      " |      :param name: A filter on tag name.\n",
      " |      :param attrs: A dictionary of filters on attribute values.\n",
      " |      :param string: A filter for a NavigableString with specific text.\n",
      " |      :kwargs: A dictionary of filters on attribute values.\n",
      " |      :return: A PageElement.\n",
      " |      :rtype: bs4.element.Tag | bs4.element.NavigableString\n",
      " |  \n",
      " |  find_previous_sibling(self, name=None, attrs={}, string=None, **kwargs)\n",
      " |      Returns the closest sibling to this PageElement that matches the\n",
      " |      given criteria and appears earlier in the document.\n",
      " |      \n",
      " |      All find_* methods take a common set of arguments. See the online\n",
      " |      documentation for detailed explanations.\n",
      " |      \n",
      " |      :param name: A filter on tag name.\n",
      " |      :param attrs: A dictionary of filters on attribute values.\n",
      " |      :param string: A filter for a NavigableString with specific text.\n",
      " |      :kwargs: A dictionary of filters on attribute values.\n",
      " |      :return: A PageElement.\n",
      " |      :rtype: bs4.element.Tag | bs4.element.NavigableString\n",
      " |  \n",
      " |  find_previous_siblings(self, name=None, attrs={}, string=None, limit=None, **kwargs)\n",
      " |      Returns all siblings to this PageElement that match the\n",
      " |      given criteria and appear earlier in the document.\n",
      " |      \n",
      " |      All find_* methods take a common set of arguments. See the online\n",
      " |      documentation for detailed explanations.\n",
      " |      \n",
      " |      :param name: A filter on tag name.\n",
      " |      :param attrs: A dictionary of filters on attribute values.\n",
      " |      :param string: A filter for a NavigableString with specific text.\n",
      " |      :param limit: Stop looking after finding this many results.\n",
      " |      :kwargs: A dictionary of filters on attribute values.\n",
      " |      :return: A ResultSet of PageElements.\n",
      " |      :rtype: bs4.element.ResultSet\n",
      " |  \n",
      " |  format_string(self, s, formatter)\n",
      " |      Format the given string using the given formatter.\n",
      " |      \n",
      " |      :param s: A string.\n",
      " |      :param formatter: A Formatter object, or a string naming one of the standard formatters.\n",
      " |  \n",
      " |  formatter_for_name(self, formatter)\n",
      " |      Look up or create a Formatter for the given identifier,\n",
      " |      if necessary.\n",
      " |      \n",
      " |      :param formatter: Can be a Formatter object (used as-is), a\n",
      " |          function (used as the entity substitution hook for an\n",
      " |          XMLFormatter or HTMLFormatter), or a string (used to look\n",
      " |          up an XMLFormatter or HTMLFormatter in the appropriate\n",
      " |          registry.\n",
      " |  \n",
      " |  getText = get_text(self, separator='', strip=False, types=<object object at 0x167ebeba0>)\n",
      " |  \n",
      " |  get_text(self, separator='', strip=False, types=<object object at 0x167ebeba0>)\n",
      " |      Get all child strings of this PageElement, concatenated using the\n",
      " |      given separator.\n",
      " |      \n",
      " |      :param separator: Strings will be concatenated using this separator.\n",
      " |      \n",
      " |      :param strip: If True, strings will be stripped before being\n",
      " |          concatenated.\n",
      " |      \n",
      " |      :param types: A tuple of NavigableString subclasses. Any\n",
      " |          strings of a subclass not found in this list will be\n",
      " |          ignored. Although there are exceptions, the default\n",
      " |          behavior in most cases is to consider only NavigableString\n",
      " |          and CData objects. That means no comments, processing\n",
      " |          instructions, etc.\n",
      " |      \n",
      " |      :return: A string.\n",
      " |  \n",
      " |  insert(self, position, new_child)\n",
      " |      Insert a new PageElement in the list of this PageElement's children.\n",
      " |      \n",
      " |      This works the same way as `list.insert`.\n",
      " |      \n",
      " |      :param position: The numeric position that should be occupied\n",
      " |         in `self.children` by the new PageElement.\n",
      " |      :param new_child: A PageElement.\n",
      " |  \n",
      " |  nextGenerator(self)\n",
      " |      # Old non-property versions of the generators, for backwards\n",
      " |      # compatibility with BS3.\n",
      " |  \n",
      " |  nextSiblingGenerator(self)\n",
      " |  \n",
      " |  parentGenerator(self)\n",
      " |  \n",
      " |  previousGenerator(self)\n",
      " |  \n",
      " |  previousSiblingGenerator(self)\n",
      " |  \n",
      " |  replaceWith = replace_with(self, *args)\n",
      " |  \n",
      " |  replaceWithChildren = unwrap(self)\n",
      " |  \n",
      " |  replace_with(self, *args)\n",
      " |      Replace this PageElement with one or more PageElements, keeping the\n",
      " |      rest of the tree the same.\n",
      " |      \n",
      " |      :param args: One or more PageElements.\n",
      " |      :return: `self`, no longer part of the tree.\n",
      " |  \n",
      " |  replace_with_children = unwrap(self)\n",
      " |  \n",
      " |  setup(self, parent=None, previous_element=None, next_element=None, previous_sibling=None, next_sibling=None)\n",
      " |      Sets up the initial relations between this element and\n",
      " |      other elements.\n",
      " |      \n",
      " |      :param parent: The parent of this element.\n",
      " |      \n",
      " |      :param previous_element: The element parsed immediately before\n",
      " |          this one.\n",
      " |      \n",
      " |      :param next_element: The element parsed immediately before\n",
      " |          this one.\n",
      " |      \n",
      " |      :param previous_sibling: The most recently encountered element\n",
      " |          on the same level of the parse tree as this one.\n",
      " |      \n",
      " |      :param previous_sibling: The next element to be encountered\n",
      " |          on the same level of the parse tree as this one.\n",
      " |  \n",
      " |  unwrap(self)\n",
      " |      Replace this PageElement with its contents.\n",
      " |      \n",
      " |      :return: `self`, no longer part of the tree.\n",
      " |  \n",
      " |  wrap(self, wrap_inside)\n",
      " |      Wrap this PageElement inside another one.\n",
      " |      \n",
      " |      :param wrap_inside: A PageElement.\n",
      " |      :return: `wrap_inside`, occupying the position in the tree that used\n",
      " |         to be occupied by `self`, and with `self` inside it.\n",
      " |  \n",
      " |  ----------------------------------------------------------------------\n",
      " |  Readonly properties inherited from bs4.element.PageElement:\n",
      " |  \n",
      " |  decomposed\n",
      " |      Check whether a PageElement has been decomposed.\n",
      " |      \n",
      " |      :rtype: bool\n",
      " |  \n",
      " |  next\n",
      " |      The PageElement, if any, that was parsed just after this one.\n",
      " |      \n",
      " |      :return: A PageElement.\n",
      " |      :rtype: bs4.element.Tag | bs4.element.NavigableString\n",
      " |  \n",
      " |  next_elements\n",
      " |      All PageElements that were parsed after this one.\n",
      " |      \n",
      " |      :yield: A sequence of PageElements.\n",
      " |  \n",
      " |  next_siblings\n",
      " |      All PageElements that are siblings of this one but were parsed\n",
      " |      later.\n",
      " |      \n",
      " |      :yield: A sequence of PageElements.\n",
      " |  \n",
      " |  parents\n",
      " |      All PageElements that are parents of this PageElement.\n",
      " |      \n",
      " |      :yield: A sequence of PageElements.\n",
      " |  \n",
      " |  previous\n",
      " |      The PageElement, if any, that was parsed just before this one.\n",
      " |      \n",
      " |      :return: A PageElement.\n",
      " |      :rtype: bs4.element.Tag | bs4.element.NavigableString\n",
      " |  \n",
      " |  previous_elements\n",
      " |      All PageElements that were parsed before this one.\n",
      " |      \n",
      " |      :yield: A sequence of PageElements.\n",
      " |  \n",
      " |  previous_siblings\n",
      " |      All PageElements that are siblings of this one but were parsed\n",
      " |      earlier.\n",
      " |      \n",
      " |      :yield: A sequence of PageElements.\n",
      " |  \n",
      " |  stripped_strings\n",
      " |      Yield all strings in this PageElement, stripping them first.\n",
      " |      \n",
      " |      :yield: A sequence of stripped strings.\n",
      " |  \n",
      " |  text\n",
      " |      Get all child strings of this PageElement, concatenated using the\n",
      " |      given separator.\n",
      " |      \n",
      " |      :param separator: Strings will be concatenated using this separator.\n",
      " |      \n",
      " |      :param strip: If True, strings will be stripped before being\n",
      " |          concatenated.\n",
      " |      \n",
      " |      :param types: A tuple of NavigableString subclasses. Any\n",
      " |          strings of a subclass not found in this list will be\n",
      " |          ignored. Although there are exceptions, the default\n",
      " |          behavior in most cases is to consider only NavigableString\n",
      " |          and CData objects. That means no comments, processing\n",
      " |          instructions, etc.\n",
      " |      \n",
      " |      :return: A string.\n",
      " |  \n",
      " |  ----------------------------------------------------------------------\n",
      " |  Data descriptors inherited from bs4.element.PageElement:\n",
      " |  \n",
      " |  __dict__\n",
      " |      dictionary for instance variables (if defined)\n",
      " |  \n",
      " |  __weakref__\n",
      " |      list of weak references to the object (if defined)\n",
      " |  \n",
      " |  nextSibling\n",
      " |  \n",
      " |  previousSibling\n",
      " |  \n",
      " |  ----------------------------------------------------------------------\n",
      " |  Data and other attributes inherited from bs4.element.PageElement:\n",
      " |  \n",
      " |  default = <object object>\n",
      " |  \n",
      " |  known_xml = None\n",
      "\n"
     ]
    }
   ],
   "source": [
    "help(soup)"
   ]
  },
  {
   "cell_type": "markdown",
   "id": "9706f0c6",
   "metadata": {
    "slideshow": {
     "slide_type": "slide"
    }
   },
   "source": [
    "#### Getting the *text* from the page"
   ]
  },
  {
   "cell_type": "code",
   "execution_count": 28,
   "id": "c6f4cddc",
   "metadata": {
    "slideshow": {
     "slide_type": "-"
    }
   },
   "outputs": [
    {
     "data": {
      "text/plain": [
       "'CSS 2 Syllabus: Winter 2024 — CSS 2Skip to main contentBack to topCtrl+KWelcome to CSS 2!Course Logi'"
      ]
     },
     "execution_count": 28,
     "metadata": {},
     "output_type": "execute_result"
    }
   ],
   "source": [
    "# Extract the text from the web page\n",
    "text = soup.get_text(strip=True)\n",
    "text[0:100]"
   ]
  },
  {
   "cell_type": "code",
   "execution_count": 29,
   "id": "10fe0acb",
   "metadata": {},
   "outputs": [
    {
     "data": {
      "text/plain": [
       "['CSS', '2', 'Syllabus', ':', 'Winter', '2024', '—', 'CSS', '2Skip', 'to']"
      ]
     },
     "execution_count": 29,
     "metadata": {},
     "output_type": "execute_result"
    }
   ],
   "source": [
    "tokens = word_tokenize(text)\n",
    "tokens[0:10] ### not perfect, but not bad"
   ]
  },
  {
   "cell_type": "markdown",
   "id": "8ba8d446",
   "metadata": {
    "slideshow": {
     "slide_type": "slide"
    }
   },
   "source": [
    "### Note on web APIs\n",
    "\n",
    "- Many websites have an **API**, or *Application Programming Interface*.  \n",
    "   - E.g., [Reddit API](https://praw.readthedocs.io/en/stable/.\n",
    "- This means you don't have to process all the web text yourself.  \n",
    "- Instead, you can work with more customized objects specific to the web page.  \n",
    "- But also often requires creating an **account**.\n"
   ]
  },
  {
   "cell_type": "markdown",
   "id": "be474201",
   "metadata": {
    "slideshow": {
     "slide_type": "slide"
    }
   },
   "source": [
    "### Web scraping and privacy use\n",
    "\n",
    "- Just because the text is *available*, doesn't mean it's *legal* or *ethical* to scrape it.  \n",
    "- Before scraping, think about our [privacy lectures](https://ucsd-css2.github.io/ucsd-css2-website/intro.html from CSS 2:\n",
    "   - Is scraping this content against the company's terms of service?  \n",
    "   - Would the people who produced this content be comfortable with me scraping it?  \n",
    "   - How do I plan to *use* that scraped content?"
   ]
  },
  {
   "cell_type": "markdown",
   "id": "9eade440",
   "metadata": {
    "slideshow": {
     "slide_type": "slide"
    }
   },
   "source": [
    "## Lecture wrap-up\n",
    "\n",
    "- A big part of CSS is dealing with *unstructured* text data.  \n",
    "- `nltk` has methods to help us **extract structure**.  \n",
    "   - Tokenizing to find the words.  \n",
    "   - Stemming and lemmatizing to find the *roots* of those words.  \n",
    "- Other packages, like `BeautifulSoup`, can help simplify web text."
   ]
  }
 ],
 "metadata": {
  "celltoolbar": "Slideshow",
  "kernelspec": {
   "display_name": "Python 3 (ipykernel)",
   "language": "python",
   "name": "python3"
  },
  "language_info": {
   "codemirror_mode": {
    "name": "ipython",
    "version": 3
   },
   "file_extension": ".py",
   "mimetype": "text/x-python",
   "name": "python",
   "nbconvert_exporter": "python",
   "pygments_lexer": "ipython3",
   "version": "3.10.5"
  }
 },
 "nbformat": 4,
 "nbformat_minor": 5
}
